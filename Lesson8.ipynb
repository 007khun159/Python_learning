{
 "cells": [
  {
   "cell_type": "code",
   "execution_count": 1,
   "id": "a6c52d4f",
   "metadata": {},
   "outputs": [
    {
     "name": "stdout",
     "output_type": "stream",
     "text": [
      "5\n",
      "5\n",
      "0\n"
     ]
    },
    {
     "ename": "ZeroDivisionError",
     "evalue": "division by zero",
     "output_type": "error",
     "traceback": [
      "\u001b[1;31m---------------------------------------------------------------------------\u001b[0m",
      "\u001b[1;31mZeroDivisionError\u001b[0m                         Traceback (most recent call last)",
      "Input \u001b[1;32mIn [1]\u001b[0m, in \u001b[0;36m<cell line: 6>\u001b[1;34m()\u001b[0m\n\u001b[0;32m      4\u001b[0m \u001b[38;5;28mprint\u001b[39m(\u001b[38;5;241m5\u001b[39m\u001b[38;5;241m-\u001b[39m\u001b[38;5;241m0\u001b[39m)\n\u001b[0;32m      5\u001b[0m \u001b[38;5;28mprint\u001b[39m(\u001b[38;5;241m5\u001b[39m\u001b[38;5;241m*\u001b[39m\u001b[38;5;241m0\u001b[39m)\n\u001b[1;32m----> 6\u001b[0m \u001b[38;5;28mprint\u001b[39m(\u001b[38;5;241;43m5\u001b[39;49m\u001b[38;5;241;43m/\u001b[39;49m\u001b[38;5;241;43m0\u001b[39;49m)\n",
      "\u001b[1;31mZeroDivisionError\u001b[0m: division by zero"
     ]
    }
   ],
   "source": [
    "#Exacption \n",
    "#ดักจับการทำงานผิดพลาดของโปรแกรม\n",
    "print(5+0)\n",
    "print(5-0)\n",
    "print(5*0)\n",
    "print(5/0)\n"
   ]
  },
  {
   "cell_type": "code",
   "execution_count": 2,
   "id": "4d73d459",
   "metadata": {},
   "outputs": [
    {
     "name": "stdout",
     "output_type": "stream",
     "text": [
      "5\n",
      "5\n",
      "0\n",
      "You can not / with 0 \n"
     ]
    }
   ],
   "source": [
    "try:\n",
    "    print(5+0)\n",
    "    print(5-0)\n",
    "    print(5*0)\n",
    "    print(5/0)\n",
    "except ZeroDivisionError:\n",
    "    print('You can not / with 0 ')\n"
   ]
  },
  {
   "cell_type": "code",
   "execution_count": 4,
   "id": "c08fff0f",
   "metadata": {},
   "outputs": [
    {
     "name": "stdout",
     "output_type": "stream",
     "text": [
      "Enter first Number : 2\n",
      "Enter second Nuber: 1\n",
      "2.0\n"
     ]
    }
   ],
   "source": [
    "try:\n",
    "    number1 = int(input('Enter first Number : '))\n",
    "    number2 = int(input('Enter second Nuber: '))\n",
    "    print(number1/number2)\n",
    "except ValueError:\n",
    "    print('You should to add only intiger number: ')\n",
    "except: \n",
    "    print('We can not /  0 ')"
   ]
  },
  {
   "cell_type": "code",
   "execution_count": 6,
   "id": "facd2af6",
   "metadata": {},
   "outputs": [
    {
     "name": "stdout",
     "output_type": "stream",
     "text": [
      "one\n",
      "We do not have this index\n"
     ]
    }
   ],
   "source": [
    "try: \n",
    "    number_dict = {\n",
    "        1:'one',\n",
    "        2:'two',\n",
    "        3:'three'\n",
    "    }\n",
    "    number_list = [1,2,3]\n",
    "    print(number_dict[1]) #show key Error\n",
    "    print(number_list[6]) #show index Error\n",
    "except KeyError:\n",
    "    print('We do not have this key')\n",
    "except IndexError:\n",
    "    print('We do not have this index')"
   ]
  },
  {
   "cell_type": "code",
   "execution_count": 8,
   "id": "2b47e411",
   "metadata": {},
   "outputs": [
    {
     "name": "stdout",
     "output_type": "stream",
     "text": [
      "one\n",
      "3\n",
      "Your program is great!!\n"
     ]
    }
   ],
   "source": [
    "#Manage Execption with try-except-else\n",
    "try: \n",
    "    number_dict = {\n",
    "        1:'one',\n",
    "        2:'two',\n",
    "        3:'three'\n",
    "    }\n",
    "    number_list = [1,2,3]\n",
    "    print(number_dict[1]) #show key Error\n",
    "    print(number_list[2]) #show index Error\n",
    "except KeyError:\n",
    "    print('We do not have this key')\n",
    "except IndexError:\n",
    "    print('We do not have this index')\n",
    "else: \n",
    "    print('Your program is great!!')"
   ]
  },
  {
   "cell_type": "code",
   "execution_count": 10,
   "id": "47265bb3",
   "metadata": {},
   "outputs": [
    {
     "name": "stdout",
     "output_type": "stream",
     "text": [
      "Enter first Number : 5\n",
      "Enter second Nuber: 10\n",
      "0.5\n",
      "Ending\n"
     ]
    }
   ],
   "source": [
    "#Manage Execption with try-except-finally\n",
    "\n",
    "try:\n",
    "    number1 = int(input('Enter first Number : '))\n",
    "    number2 = int(input('Enter second Nuber: '))\n",
    "    print(number1/number2)\n",
    "except ValueError:\n",
    "    print('You should to add only intiger number: ')\n",
    "except: \n",
    "    print('We can not /  0 ')\n",
    "finally:\n",
    "    print('Ending')"
   ]
  },
  {
   "cell_type": "code",
   "execution_count": 13,
   "id": "a69cd886",
   "metadata": {},
   "outputs": [
    {
     "name": "stdout",
     "output_type": "stream",
     "text": [
      "Enter the number of Month: 2\n",
      "Month 2 is the month กุมภาพันธ์\n"
     ]
    }
   ],
   "source": [
    "#Mange Exception with raise \n",
    "\n",
    "month_dict ={\n",
    "    1:'มกราคม',\n",
    "    2:'กุมภาพันธ์',\n",
    "    3:'มีนาคม',\n",
    "    4:'เมษายน',\n",
    "    5:'พฤษภาคม',\n",
    "    6:'มิถุนายน',\n",
    "    7:'กรกฎาคม',\n",
    "    8:'สิงหาคม',\n",
    "    9:'กันยายน',\n",
    "    10:'ตุลาคม',\n",
    "    11:'พฤษจิกายน',\n",
    "    12:'ธันวาคม'\n",
    "}\n",
    "\n",
    "x = int(input('Enter the number of Month: '))\n",
    "if x <1 or x> 12:\n",
    "    raise Exception('The input of month which you enter is',x)\n",
    "else:\n",
    "    print('Month',x,'is the month',month_dict[x])"
   ]
  },
  {
   "cell_type": "code",
   "execution_count": null,
   "id": "08bb0503",
   "metadata": {},
   "outputs": [],
   "source": []
  }
 ],
 "metadata": {
  "kernelspec": {
   "display_name": "Python 3 (ipykernel)",
   "language": "python",
   "name": "python3"
  },
  "language_info": {
   "codemirror_mode": {
    "name": "ipython",
    "version": 3
   },
   "file_extension": ".py",
   "mimetype": "text/x-python",
   "name": "python",
   "nbconvert_exporter": "python",
   "pygments_lexer": "ipython3",
   "version": "3.9.12"
  }
 },
 "nbformat": 4,
 "nbformat_minor": 5
}
