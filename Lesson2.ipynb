{
 "cells": [
  {
   "cell_type": "code",
   "execution_count": 2,
   "id": "b7ed316e",
   "metadata": {},
   "outputs": [
    {
     "name": "stdout",
     "output_type": "stream",
     "text": [
      "10\n"
     ]
    }
   ],
   "source": [
    "#Variable\n",
    "\n",
    "price = 100 \n",
    "name = 'Orapin'\n",
    "a=b=c = 10\n",
    "e,f,g = 10,20,'Hello'"
   ]
  },
  {
   "cell_type": "code",
   "execution_count": null,
   "id": "70ad83df",
   "metadata": {},
   "outputs": [],
   "source": [
    "#Input Variable \n",
    "\n",
    "age= input('How old are you: ')\n",
    "score = input('Please input score')\n"
   ]
  },
  {
   "cell_type": "code",
   "execution_count": null,
   "id": "172cff00",
   "metadata": {},
   "outputs": [],
   "source": [
    "#Print Variable input\n",
    "\n",
    "name =input('Enter your name: ')\n",
    "price = int(input('Enter the price: '))\n",
    "print('The costumer name is',name)\n",
    "print('Total price is ',price)"
   ]
  },
  {
   "cell_type": "code",
   "execution_count": 3,
   "id": "d380376b",
   "metadata": {},
   "outputs": [
    {
     "name": "stdout",
     "output_type": "stream",
     "text": [
      "100\n",
      "100\n",
      "200\n",
      "abc\n"
     ]
    }
   ],
   "source": [
    "#Print Variable\n",
    "x= 100\n",
    "print(x)\n",
    "y=x\n",
    "print(y)\n",
    "y=200\n",
    "print(y)\n",
    "y='abc'\n",
    "print(y)"
   ]
  },
  {
   "cell_type": "code",
   "execution_count": null,
   "id": "375b68e1",
   "metadata": {},
   "outputs": [],
   "source": []
  }
 ],
 "metadata": {
  "kernelspec": {
   "display_name": "Python 3 (ipykernel)",
   "language": "python",
   "name": "python3"
  },
  "language_info": {
   "codemirror_mode": {
    "name": "ipython",
    "version": 3
   },
   "file_extension": ".py",
   "mimetype": "text/x-python",
   "name": "python",
   "nbconvert_exporter": "python",
   "pygments_lexer": "ipython3",
   "version": "3.9.12"
  }
 },
 "nbformat": 4,
 "nbformat_minor": 5
}
