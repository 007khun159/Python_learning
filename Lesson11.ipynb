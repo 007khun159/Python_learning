{
 "cells": [
  {
   "cell_type": "code",
   "execution_count": 10,
   "id": "f7d16bd1",
   "metadata": {},
   "outputs": [
    {
     "name": "stdout",
     "output_type": "stream",
     "text": [
      "เพิ่มข้อมมูลลงในตารางเสร็จแล้ว\n"
     ]
    }
   ],
   "source": [
    "#Database \n",
    "#Save information\n",
    "import pymysql\n",
    "\n",
    "con = pymysql.connect(host=\"localhost\", database=\"testmariadb\", user=\"root\", password=\"\", charset=\"utf8\")\n",
    "\n",
    "\n",
    "try: \n",
    "    cur=con.cursor()\n",
    "    cur.execute(\"INSERT INTO customer (first_name,last_name,phone,street,city,province,zipcode) VALUES ('น้ำใส','ใจกล้า','0816857452','12/34 ถ.ประชาอุุทิศ','ห้วยขวาง','กทม.','10310')\")\n",
    "    cur.execute(\"INSERT INTO customer (first_name,last_name,phone,street,city,province,zipcode) VALUES ('ต้นน้ำ','กล้าหาญ','0829966742','987/542 ซ.สุทธิพร ถ.ประชาสงเคราะห์','ดินแดง','กทม.','10400')\")\n",
    "    cur.execute(\"INSERT INTO customer (first_name,last_name,phone,street,city,province,zipcode) VALUES ('วันดี','สีสวย','0896652321','2 ถ.พหลโยธิน ต.ประชาธิปัตย์','ธัญบุรี','ปทุมธานี','12130')\")\n",
    "    cur.execute(\"INSERT INTO customer (first_name,last_name,phone,street,city,province,zipcode) VALUES ('พอใจ','กล้าหาญ','0815252666','20/2 ถ.เทพรัตน แขวงบางนาใต้','บางนา','กทม.','10260')\")\n",
    "    cur.execute(\"INSERT INTO customer (first_name,last_name,phone,street,city,province,zipcode) VALUES ('วีระ','รักธรรม','0893345687','12 ต.บางพลีใหญ่','บางพลี','สมุทรปราการ','10540')\")\n",
    "    \n",
    "    con.commit()#ยืนยันการเปลี่ยนแปลง\n",
    "    print('เพิ่มข้อมมูลลงในตารางเสร็จแล้ว')\n",
    "    \n",
    "    cur.close() #ปิดเคอเซอร์\n",
    "except :\n",
    "    con.rollback() # ยกเลิกการทำคำสั่ง sql และดึงข้อมูลเดิมกลับมา\n",
    "    print(\"ไม่สามารถเพิ่มข้อมูลลงในตารางข้อมูลได้\")\n",
    "finally :\n",
    "    con.close() # สั่งปิดการเชื่อมต่อกับฐานข้อมูล"
   ]
  },
  {
   "cell_type": "code",
   "execution_count": 11,
   "id": "ab5f97e6",
   "metadata": {},
   "outputs": [
    {
     "name": "stdout",
     "output_type": "stream",
     "text": [
      "(1, 'น้ำใส', 'ใจกล้า', '0816857452', '12/34 ถ.ประชาอุุทิศ', 'ห้วยขวาง', 'กทม.', '10310')\n",
      "(2, 'ต้นน้ำ', 'กล้าหาญ', '0829966742', '987/542 ซ.สุทธิพร ถ.ประชาสงเคราะห์', 'ดินแดง', 'กทม.', '10400')\n",
      "(3, 'วันดี', 'สีสวย', '0896652321', '2 ถ.พหลโยธิน ต.ประชาธิปัตย์', 'ธัญบุรี', 'ปทุมธานี', '12130')\n",
      "(4, 'พอใจ', 'กล้าหาญ', '0815252666', '20/2 ถ.เทพรัตน แขวงบางนาใต้', 'บางนา', 'กทม.', '10260')\n",
      "(5, 'วีระ', 'รักธรรม', '0893345687', '12 ต.บางพลีใหญ่', 'บางพลี', 'สมุทรปราการ', '10540')\n"
     ]
    }
   ],
   "source": [
    "#calling information\n",
    "#fetchall\n",
    "import pymysql\n",
    "\n",
    "con = pymysql.connect(host=\"localhost\", database=\"testmariadb\", user=\"root\", password=\"\", charset=\"utf8\")\n",
    "\n",
    "try:\n",
    "    cur = con.cursor()\n",
    "    cur.execute('SELECT *FROM customer')\n",
    "    \n",
    "    \n",
    "    #นำผลลัพธ์ทุกรายการใน sql statement เรียกดึงข้อมูลได้มาเก็บเป็นตัวแปร cust_data\n",
    "    \n",
    "    cust_data = cur.fetchall()\n",
    "    for i in cust_data:\n",
    "        print(i)\n",
    "        \n",
    "    \n",
    "    cur.close()\n",
    "\n",
    "except:\n",
    "    print(\"ไม่สามารถดึงข้อมูลลงในตารางข้อมูลได้\")\n",
    "    \n",
    "finally:\n",
    "    con.close()"
   ]
  },
  {
   "cell_type": "code",
   "execution_count": 18,
   "id": "5f49daaf",
   "metadata": {},
   "outputs": [
    {
     "name": "stdout",
     "output_type": "stream",
     "text": [
      "(1, 'น้ำใส', 'ใจกล้า', '0816857452', '12/34 ถ.ประชาอุุทิศ', 'ห้วยขวาง', 'กทม.', '10310')\n"
     ]
    }
   ],
   "source": [
    "#calling a row of information\n",
    "#fetchone\n",
    "\n",
    "import pymysql\n",
    "\n",
    "con = pymysql.connect(host=\"localhost\", database=\"testmariadb\", user=\"root\", password=\"\", charset=\"utf8\")\n",
    "\n",
    "\n",
    "try:\n",
    "    cur = con.cursor()\n",
    "    cur.execute('SELECT *FROM customer')\n",
    "    \n",
    "    \n",
    "    #นำผลลัพธ์ 1 รายการใน sql statement เรียกดึงข้อมูลได้มาเก็บเป็นตัวแปร cust_data\n",
    "    \n",
    "    cust_data1 = cur.fetchone()\n",
    "    print(cust_data1)\n",
    "        \n",
    "    \n",
    "    cur.close()\n",
    "\n",
    "except:\n",
    "    print(\"ไม่สามารถดึงข้อมูลลงในตารางข้อมูลได้\")\n",
    "    \n",
    "finally:\n",
    "    con.close()\n",
    "\n"
   ]
  },
  {
   "cell_type": "code",
   "execution_count": 30,
   "id": "f8131635",
   "metadata": {},
   "outputs": [
    {
     "name": "stdout",
     "output_type": "stream",
     "text": [
      "(1, 'น้ำใส', 'ใจกล้า', '0816857452', '12/34 ถ.ประชาอุุทิศ', 'ห้วยขวาง', 'กรุงเทพฯ', '10310')\n",
      "(2, 'ต้นน้ำ', 'กล้าหาญ', '0829966742', '987/542 ซ.สุทธิพร ถ.ประชาสงเคราะห์', 'ดินแดง', 'กรุงเทพฯ', '10400')\n",
      "(3, 'วันดี', 'สีสวย', '0896652321', '2 ถ.พหลโยธิน ต.ประชาธิปัตย์', 'ธัญบุรี', 'ปทุมธานี', '12130')\n"
     ]
    }
   ],
   "source": [
    "#calling 3 rows of information\n",
    "#fetchamany\n",
    "\n",
    "import pymysql\n",
    "\n",
    "con = pymysql.connect(host=\"localhost\", database=\"testmariadb\", user=\"root\", password=\"\", charset=\"utf8\")\n",
    "\n",
    "try:\n",
    "    cur = con.cursor()\n",
    "    cur.execute('SELECT *FROM customer')\n",
    "    \n",
    "    \n",
    "    #นำผลลัพธ์ทุกรายการใน sql statement เรียกดึงข้อมูลได้มาเก็บเป็นตัวแปร cust_data\n",
    "    \n",
    "    cust_data = cur.fetchmany(3)\n",
    "    for i in cust_data:\n",
    "        print(i)\n",
    "        \n",
    "    \n",
    "    cur.close()\n",
    "\n",
    "except:\n",
    "    print(\"ไม่สามารถดึงข้อมูลลงในตารางข้อมูลได้\")\n",
    "    \n",
    "finally:\n",
    "    con.close()\n",
    "\n"
   ]
  },
  {
   "cell_type": "code",
   "execution_count": 32,
   "id": "9a5830bc",
   "metadata": {},
   "outputs": [
    {
     "name": "stdout",
     "output_type": "stream",
     "text": [
      "(1, 'น้ำใส', 'ใจกล้า')\n",
      "(2, 'ต้นน้ำ', 'กล้าหาญ')\n",
      "(4, 'พอใจ', 'กล้าหาญ')\n",
      "(5, 'วีระ', 'รักธรรม')\n"
     ]
    }
   ],
   "source": [
    "#เรียกดูข้อมูลในบางคอลัม\n",
    "\n",
    "#calling information\n",
    "#fetchall\n",
    "import pymysql\n",
    "\n",
    "con = pymysql.connect(host=\"localhost\", database=\"testmariadb\", user=\"root\", password=\"\", charset=\"utf8\")\n",
    "\n",
    "try :\n",
    "    cur = con.cursor()\n",
    "    \n",
    "    #เรียกดูข้อมูล\n",
    "    cur.execute(\"SELECT cust_id,first_name,last_name FROM customer\")\n",
    "\n",
    "    cust_data = cur.fetchall()\n",
    "    for i in cust_data :\n",
    "        print(i)\n",
    "\n",
    "    cur.close()\n",
    "except :\n",
    "    print(\"ไม่สามารถเรียกดึงข้อมูลจากฐานข้อมูลได้\")\n",
    "finally :\n",
    "    con.close()"
   ]
  },
  {
   "cell_type": "code",
   "execution_count": 28,
   "id": "b12b3161",
   "metadata": {},
   "outputs": [
    {
     "name": "stdout",
     "output_type": "stream",
     "text": [
      "กรุณากรอกรหัสลูกค้า : 9\n",
      "ไม่พบข้อมูลลูกค้าตามรหัสลูกค้าที่ระบุ\n"
     ]
    }
   ],
   "source": [
    "#กรอก input เพื่อเรียกดูข้อมูลของลูกค้า\n",
    "\n",
    "import pymysql\n",
    "\n",
    "id = input(\"กรุณากรอกรหัสลูกค้า : \")\n",
    "sql = \"SELECT * FROM customer WHERE cust_id = \"+id\n",
    "con = pymysql.connect(host=\"localhost\", database=\"testmariadb\", user=\"root\", password=\"\", charset=\"utf8\")\n",
    "\n",
    "try :\n",
    "    cur = con.cursor()\n",
    "    cur.execute(sql)\n",
    "\n",
    "    cust_data = cur.fetchone()\n",
    "    if(str(cust_data) in \"None\") :\n",
    "        print(\"ไม่พบข้อมูลลูกค้าตามรหัสลูกค้าที่ระบุ\")\n",
    "    else :\n",
    "        print(\"รหัสลูกค้า : \",cust_data[0])\n",
    "        print(\"ชื่อ-นามสกุล :  \",cust_data[1],cust_data[2])\n",
    "        print(\"เขตที่อยู่ : \",cust_data[5])\n",
    "    cur.close()\n",
    "\n",
    "except :\n",
    "    print(\"ไม่สามารถเรียกดึงข้อมูลจากฐานข้อมูลได้\")\n",
    "finally :\n",
    "    con.close()\n",
    "   \n"
   ]
  },
  {
   "cell_type": "code",
   "execution_count": 29,
   "id": "1332a4c5",
   "metadata": {},
   "outputs": [
    {
     "name": "stdout",
     "output_type": "stream",
     "text": [
      "ปรับปรุงข้อมูลสำเร็จแล้ว\n"
     ]
    }
   ],
   "source": [
    "#Update infor\n",
    "#cur = cursor()\n",
    "#cur.execute(update)\n",
    "\n",
    "\n",
    "import pymysql\n",
    "\n",
    "con = pymysql.connect(host=\"localhost\", database=\"testmariadb\", user=\"root\", password=\"\", charset=\"utf8\")\n",
    "\n",
    "try: \n",
    "    cur = con.cursor()\n",
    "    cur.execute(\"UPDATE customer SET province  = 'กรุงเทพฯ' WHERE province = 'กทม.'\")\n",
    "    \n",
    "    con.commit()\n",
    "    print('ปรับปรุงข้อมูลสำเร็จแล้ว')\n",
    "    cur.close()\n",
    "except:\n",
    "    con.rollback()\n",
    "    print('ไม่สามารถปรับปรุงได้')\n",
    "finally:\n",
    "    con.close()"
   ]
  },
  {
   "cell_type": "code",
   "execution_count": 31,
   "id": "6098b7f0",
   "metadata": {},
   "outputs": [
    {
     "name": "stdout",
     "output_type": "stream",
     "text": [
      "DElETE FINISH\n"
     ]
    }
   ],
   "source": [
    "#Del \n",
    "\n",
    "#cur = cursor()\n",
    "#cur.execute(DELETE)\n",
    "\n",
    "\n",
    "import pymysql\n",
    "con = pymysql.connect(host=\"localhost\", database=\"testmariadb\", user=\"root\", password=\"\", charset=\"utf8\")\n",
    "\n",
    "try: \n",
    "    cur = con.cursor()\n",
    "    cur.execute(\"DELETE FROM customer WHERE cust_id =3 \")\n",
    "    \n",
    "\n",
    "    con.commit()\n",
    "    print('DElETE FINISH')\n",
    "    cur.close()\n",
    "    \n",
    "except:\n",
    "    con.rollback()\n",
    "    print(\"WE CAN'T DELETE\")\n",
    "finally:\n",
    "    con.close()"
   ]
  },
  {
   "cell_type": "code",
   "execution_count": null,
   "id": "c6b5662e",
   "metadata": {},
   "outputs": [],
   "source": []
  }
 ],
 "metadata": {
  "kernelspec": {
   "display_name": "Python 3 (ipykernel)",
   "language": "python",
   "name": "python3"
  },
  "language_info": {
   "codemirror_mode": {
    "name": "ipython",
    "version": 3
   },
   "file_extension": ".py",
   "mimetype": "text/x-python",
   "name": "python",
   "nbconvert_exporter": "python",
   "pygments_lexer": "ipython3",
   "version": "3.9.12"
  }
 },
 "nbformat": 4,
 "nbformat_minor": 5
}
