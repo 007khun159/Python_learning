{
 "cells": [
  {
   "cell_type": "code",
   "execution_count": 4,
   "id": "628c4319",
   "metadata": {},
   "outputs": [],
   "source": [
    "#File Handling\n",
    "\n",
    "#Writhing file txt \n",
    "\n",
    "f1  =open('student_record.txt','w',encoding='UTF-8')\n",
    "f1.write('ข้อมูลนักเรียนอนุบาล 1/1')\n",
    "f1.write('1.น้องดีน่า')\n",
    "f1.write('2.น้องต้นไม้')\n",
    "f1.write('3.น้องดีใจ')\n",
    "f1.write('4.น้องเหมียว')\n",
    "f1.write('5.น้องรักดี')\n",
    "\n",
    "f2 = open('student_record2.txt','w',encoding='UTF-8')\n",
    "f2.writelines(['ข้อมูลนักเรียนอนุบาล 1/2','\\n1.น้องA','\\n2.น้องB','\\n3.น้องC','\\n4.น้องD'])\n",
    "\n",
    "f1.close()\n",
    "f2.close()"
   ]
  },
  {
   "cell_type": "code",
   "execution_count": 5,
   "id": "e38e79ff",
   "metadata": {},
   "outputs": [
    {
     "name": "stdout",
     "output_type": "stream",
     "text": [
      "อ่านข้อมูลด้วย method read()\n",
      "ข้อมูลนักเรียนอนุบาล 1/2\n",
      "1.น้องA\n",
      "2.น้องB\n",
      "3.น้องC\n",
      "4.น้องD\n",
      "\n",
      "อ่านด้วยmethod readline()\n",
      "ข้อมูลนักเรียนอนุบาล 1/2\n",
      "\n",
      "\n",
      "อ่านด้วยmethod readlines()\n",
      "['1.น้องA\\n', '2.น้องB\\n', '3.น้องC\\n', '4.น้องD']\n"
     ]
    }
   ],
   "source": [
    "#Reading file txt \n",
    "\n",
    "f =open('student_record2.txt','r',encoding='UTF-8')\n",
    "print('อ่านข้อมูลด้วย method read()')\n",
    "std_data = f.read()\n",
    "print(std_data)\n",
    "\n",
    "\n",
    "f.seek(0)\n",
    "print('\\nอ่านด้วยmethod readline()')\n",
    "std_data = f.readline()\n",
    "print(std_data)\n",
    "\n",
    "print('\\nอ่านด้วยmethod readlines()')\n",
    "std_data = f.readlines()\n",
    "print(std_data)"
   ]
  },
  {
   "cell_type": "code",
   "execution_count": 6,
   "id": "8a6de1dc",
   "metadata": {},
   "outputs": [
    {
     "name": "stdout",
     "output_type": "stream",
     "text": [
      "['1.น้องA\\n', '2.น้องB\\n', '3.น้องC\\n', '4.น้องD']\n"
     ]
    }
   ],
   "source": [
    "# Update Information \n",
    "f = open('student_record2.txt','a+',encoding='UTF-8')\n",
    "f.writelines(['\\n4.น้องสี่ \\n5.น้องห้า'])\n",
    "f.seek(0)\n",
    "print(std_data)\n",
    "f.close()"
   ]
  },
  {
   "cell_type": "code",
   "execution_count": 7,
   "id": "78212814",
   "metadata": {},
   "outputs": [
    {
     "name": "stdout",
     "output_type": "stream",
     "text": [
      "Bainary Data: b'one two three[1,2,3]'\n"
     ]
    }
   ],
   "source": [
    "#Bainary File \n",
    "\n",
    "my_file = open('bfile.bin','wb+')\n",
    "str = b\"one two three\"\n",
    "num = b\"[1,2,3]\"\n",
    "my_file.write(str)\n",
    "my_file.write(num)\n",
    "my_file.seek(0)\n",
    "bdata = my_file.read()\n",
    "print('Bainary Data:',bdata)\n",
    "my_file.close()"
   ]
  },
  {
   "cell_type": "code",
   "execution_count": null,
   "id": "22a7e120",
   "metadata": {},
   "outputs": [],
   "source": [
    "#Manage file with comand with\n",
    "\n",
    "player = int(input('How many player: '))\n",
    "i=1 \n",
    "\n",
    "with open('score.txt','w+')  as file_score:  # file_score ทำหน้าที่เป็นตัวเก็บ obj \n",
    "    while i != 0:\n",
    "        print('Player',i)\n",
    "        score = input('Enter the score: ')\n",
    "\n",
    "        data = 'Player'+ str(i) +'Score' + score\n",
    "        file_score.write(data)\n",
    "        file_score.write('\\n')\n",
    "        player = player -1\n",
    "    file_score.seek()\n",
    "    print('\\nข้อมูลที่บันทึกเอาไว้')\n",
    "    print(file_score.read())"
   ]
  },
  {
   "cell_type": "code",
   "execution_count": null,
   "id": "ead5ffbd",
   "metadata": {},
   "outputs": [],
   "source": [
    "#Manage file scv\n",
    "\n",
    "#Write file\n",
    "import csv\n",
    "\n",
    "with open('custcontact.csv','w',encoding='UTF-8',newline='\\n') as csvfile: \n",
    "    cuscontact_writer = csv.writer(csvfile)\n",
    "    cuscontact_writer.writerow(['ชื่อ','นามสกุล','เบอร์โทรศัพท์','อีเมล','Line ID'])\n",
    "    cuscontact_writer.writerow(['แพรวพรรณ','วรรณสกุล','0829954499','preawpaw@gmail.com',\n",
    "                                'iampraew'])\n",
    "    cuscontact_writer.writerow(['สมชาย','ไม้เมือง','0894254355','somchay@gmail.com',\n",
    "                                'iamsomchay'])\n",
    "    cuscontact_writer.writerow(['กุลชาติ','เมืองยิ่ง','0819876543','kulachart@gmail.com',\n",
    "                               'iamkulachart'])\n",
    "    cuscontact_writer.writerow(['สมใจ','รักธรรม','0654457788','somjai@gmail.com','somjai'])\n",
    "    cuscontact_writer.writerow(['สมศรี','สุขใจ','0614224221','somsri@gmail.com','somsri'])"
   ]
  },
  {
   "cell_type": "code",
   "execution_count": 4,
   "id": "0f26598f",
   "metadata": {},
   "outputs": [],
   "source": [
    "import csv \n",
    "\n",
    "myCustomer =[['ชื่อ','นามสกุล','เบอร์โทรศัพท์','อีเมล','Line ID'],\n",
    "            ['แพรวพรรณ','วรรณสกุล','0829954499','preawpaw@gmail.com','iampraew'],\n",
    "            ['สมชาย','ไม้เมือง','0894254355','somchay@gmail.com','iamsomchay'],\n",
    "            ['กุลชาติ','เมืองยิ่ง','0819876543','kulachart@gmail.com','iamkulachart'],\n",
    "            ['สมใจ','รักธรรม','0654457788','somjai@gmail.com','somjai'],\n",
    "            ['สมศรี','สุขใจ','0614224221','somsri@gmail.com','somsri']]\n",
    "\n",
    "with open('custcontact2.csv','w',encoding='UTF-8',newline='\\n') as csvfile: \n",
    "    cuscontact_writer = csv.writer(csvfile)\n",
    "    cuscontact_writer.writerows(myCustomer)"
   ]
  },
  {
   "cell_type": "code",
   "execution_count": 13,
   "id": "2b2da1d9",
   "metadata": {},
   "outputs": [
    {
     "name": "stdout",
     "output_type": "stream",
     "text": [
      "<_csv.reader object at 0x0000021CDE709640>\n",
      "['ชื่อ', 'นามสกุล', 'เบอร์โทรศัพท์', 'อีเมล', 'Line ID']\n",
      "['แพรวพรรณ', 'วรรณสกุล', '0829954499', 'preawpaw@gmail.com', 'iampraew']\n",
      "['สมชาย', 'ไม้เมือง', '0894254355', 'somchay@gmail.com', 'iamsomchay']\n",
      "['กุลชาติ', 'เมืองยิ่ง', '0819876543', 'kulachart@gmail.com', 'iamkulachart']\n",
      "['สมใจ', 'รักธรรม', '0654457788', 'somjai@gmail.com', 'somjai']\n",
      "['สมศรี', 'สุขใจ', '0614224221', 'somsri@gmail.com', 'somsri']\n"
     ]
    }
   ],
   "source": [
    "#Read file\n",
    "import csv \n",
    "\n",
    "with open('custcontact.csv','r',encoding='UTF-8') as csv_file:\n",
    "    csv_reader = csv.reader(csv_file)\n",
    "    print(csv_reader)\n",
    "\n",
    "    for line in csv_reader:\n",
    "        print(line)"
   ]
  },
  {
   "cell_type": "code",
   "execution_count": 14,
   "id": "b86cc62e",
   "metadata": {},
   "outputs": [
    {
     "name": "stdout",
     "output_type": "stream",
     "text": [
      "{'ชื่อ': 'แพรวพรรณ', 'นามสกุล': 'วรรณสกุล', 'เบอร์โทรศัพท์': '0829954499', 'อีเมล': 'preawpaw@gmail.com', 'Line ID': 'iampraew'}\n",
      "{'ชื่อ': 'สมชาย', 'นามสกุล': 'ไม้เมือง', 'เบอร์โทรศัพท์': '0894254355', 'อีเมล': 'somchay@gmail.com', 'Line ID': 'iamsomchay'}\n",
      "{'ชื่อ': 'กุลชาติ', 'นามสกุล': 'เมืองยิ่ง', 'เบอร์โทรศัพท์': '0819876543', 'อีเมล': 'kulachart@gmail.com', 'Line ID': 'iamkulachart'}\n",
      "{'ชื่อ': 'สมใจ', 'นามสกุล': 'รักธรรม', 'เบอร์โทรศัพท์': '0654457788', 'อีเมล': 'somjai@gmail.com', 'Line ID': 'somjai'}\n",
      "{'ชื่อ': 'สมศรี', 'นามสกุล': 'สุขใจ', 'เบอร์โทรศัพท์': '0614224221', 'อีเมล': 'somsri@gmail.com', 'Line ID': 'somsri'}\n"
     ]
    }
   ],
   "source": [
    "import csv \n",
    "\n",
    "# Dictionary style\n",
    "\n",
    "with open('custcontact.csv','r',encoding='UTF-8') as csv_file:\n",
    "    cuscontact_reader = csv.DictReader(csv_file)\n",
    "    for mycust in cuscontact_reader:\n",
    "        print(mycust)"
   ]
  },
  {
   "cell_type": "code",
   "execution_count": 18,
   "id": "6754fd52",
   "metadata": {},
   "outputs": [
    {
     "name": "stdout",
     "output_type": "stream",
     "text": [
      "บันทึกข้อมูลสำเร็จ\n"
     ]
    }
   ],
   "source": [
    "#Management with Excel file\n",
    "\n",
    "import openpyxl as xl\n",
    "\n",
    "myCustomer = [[\"ชื่อ\",\"นามสกุล\",\"เบอร์โทรศัพท์\",\"อีเมล\",\"Line ID\"],\n",
    "              [\"แพรวพรรณ\",\"วรรณากุล\",\"0829954499\",\"praewpan@gmail.com\",\"iampraew\"],\n",
    "              [\"สมชาย\", \"ไม้เมือง\", \"0894254355\", \"somchai@yahoo.com\", \"msomchai\"],\n",
    "              [\"กุลชาติ\", \"เมืองยิ่ง\", \"0819876543\", \"kulachart@hotmail.com\", \"kulkul\"],\n",
    "              [\"สมใจ\", \"รักธรรม\", \"0654457788\", \"somjai@gmail.com\", \"somjaija\"],\n",
    "              [\"สมศรี\", \"สุขใจ\", \"0614224221\", \"somsri@gmail.com\", \"sukjai_somsri\"]]\n",
    "\n",
    "file = xl.Workbook()\n",
    "file.save(\"custexcel.xlsx\")\n",
    "sheet = file.worksheets[0]\n",
    "sheet.title = \"Customer\"\n",
    "r = 1\n",
    "for cust in myCustomer:\n",
    "    for i in range(5):\n",
    "        sheet.cell(row=r, column=i+1).value = cust[i]\n",
    "    r += 1\n",
    "file.save(\"custexcel.xlsx\")\n",
    "print(\"บันทึกข้อมูลสำเร็จ\")"
   ]
  },
  {
   "cell_type": "code",
   "execution_count": 23,
   "id": "7ef36e92",
   "metadata": {},
   "outputs": [
    {
     "name": "stdout",
     "output_type": "stream",
     "text": [
      "Cell A2แพรวพรรณ\n",
      "\n",
      "Cell A6สมศรี\n",
      "\n",
      "[Customer name list]\n",
      "ชื่อ นามสกุล\n",
      "แพรวพรรณ วรรณากุล\n",
      "สมชาย ไม้เมือง\n",
      "กุลชาติ เมืองยิ่ง\n",
      "สมใจ รักธรรม\n",
      "สมศรี สุขใจ\n",
      "\n",
      "[Last customer]\n",
      "สมศรี\n",
      "สุขใจ\n",
      "0614224221\n",
      "somsri@gmail.com\n",
      "sukjai_somsri\n",
      "\n",
      "[Customer email]\n",
      "praewpan@gmail.com\n",
      "somchai@yahoo.com\n",
      "kulachart@hotmail.com\n",
      "somjai@gmail.com\n",
      "somsri@gmail.com\n"
     ]
    }
   ],
   "source": [
    "#Read file \n",
    "\n",
    "import openpyxl as xl \n",
    "\n",
    "file  = xl.load_workbook('custexcel.xlsx')\n",
    "sheet = file.active\n",
    "cell1 = sheet['A2']\n",
    "print('Cell A2'+cell1.value)\n",
    "cell2 = sheet.cell(row=6,column=1)\n",
    "print('\\nCell A6'+cell2.value)\n",
    "\n",
    "cells = sheet['A1': 'B6']\n",
    "print(\"\\n[Customer name list]\")\n",
    "for c1, c2 in cells:\n",
    "    print(c1.value+ \" \" + c2.value)\n",
    "\n",
    "\n",
    "print(\"\\n[Last customer]\")\n",
    "for row in sheet.iter_rows(min_row=6, max_col=5, max_row=6):\n",
    "    for cell3 in row:\n",
    "        print(cell3.value)\n",
    "        \n",
    "print(\"\\n[Customer email]\")\n",
    "for row in sheet.iter_cols(min_row=2, min_col=4, max_row=6, max_col=4):\n",
    "    for cell4 in row:\n",
    "        print(cell4.value)"
   ]
  },
  {
   "cell_type": "code",
   "execution_count": 1,
   "id": "a1c5d2c9",
   "metadata": {},
   "outputs": [
    {
     "ename": "SyntaxError",
     "evalue": "unexpected EOF while parsing (2912075099.py, line 27)",
     "output_type": "error",
     "traceback": [
      "\u001b[1;36m  Input \u001b[1;32mIn [1]\u001b[1;36m\u001b[0m\n\u001b[1;33m    print(\"ไดเร็คทอรี \", os.getcwd(), \"ประกอบด้วย \", os.listdir(os.getcwd())\u001b[0m\n\u001b[1;37m                                                                            ^\u001b[0m\n\u001b[1;31mSyntaxError\u001b[0m\u001b[1;31m:\u001b[0m unexpected EOF while parsing\n"
     ]
    }
   ],
   "source": [
    "#Manage fiel and directory\n",
    "import os\n",
    "\n",
    "print(\"ไดเร็คทอรีปัจจุบัน คือ \",os.getcwd())\n",
    "print(\"ไดเร็คทอรี \", os.getcwd() , \"ประกอบด้วย \", os.listdir(os.getcwd()))\n",
    "\n",
    "try :\n",
    "    os.mkdir(\"c:\\PyCharmProj\\mypython\")\n",
    "except FileExistsError :\n",
    "    print(\"ไม่สามารถสร้างไดเร็คทอรีได้ เนื่องจากมีไดเร็คทอรีนี้แล้ว\")\n",
    "else :\n",
    "    print(\"ไดเร็คทอรี \", os.getcwd() , \"ประกอบด้วย \", os.listdir(os.getcwd()))\n",
    "\n",
    "    os.rename(\"c:\\PyCharmProj\\mypython\",\"c:\\PyCharmProj\\python_test\")\n",
    "    print(\"ไดเร็คทอรี \", os.getcwd() , \"ประกอบด้วย \", os.listdir(os.getcwd()))\n",
    "\n",
    "    os.chdir(\"c:\\PyCharmProj\\python_test\")\n",
    "    with open(\"testfile.txt\",\"w\") as file :\n",
    "        file.write(\"test write file\")\n",
    "    print(\"ไดเร็คทอรี \", os.getcwd() , \"ประกอบด้วย \", os.listdir(os.getcwd()))\n",
    "\n",
    "    os.remove(\"testfile.txt\")\n",
    "    print(\"ไดเร็คทอรี \", os.getcwd(), \"ประกอบด้วย \", os.listdir(os.getcwd()))\n",
    "\n",
    "    os.chdir(\"c:\\PyCharmProj\")\n",
    "    os.rmdir(\"c:\\PyCharmProj\\python_test\")\n",
    "    print(\"ไดเร็คทอรี \", os.getcwd(), \"ประกอบด้วย \", os.listdir(os.getcwd())"
   ]
  },
  {
   "cell_type": "code",
   "execution_count": null,
   "id": "c455eca7",
   "metadata": {},
   "outputs": [],
   "source": []
  }
 ],
 "metadata": {
  "kernelspec": {
   "display_name": "Python 3 (ipykernel)",
   "language": "python",
   "name": "python3"
  },
  "language_info": {
   "codemirror_mode": {
    "name": "ipython",
    "version": 3
   },
   "file_extension": ".py",
   "mimetype": "text/x-python",
   "name": "python",
   "nbconvert_exporter": "python",
   "pygments_lexer": "ipython3",
   "version": "3.9.12"
  }
 },
 "nbformat": 4,
 "nbformat_minor": 5
}
