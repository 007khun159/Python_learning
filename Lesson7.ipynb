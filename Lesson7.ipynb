{
 "cells": [
  {
   "cell_type": "code",
   "execution_count": 4,
   "id": "49f50ae8",
   "metadata": {},
   "outputs": [
    {
     "name": "stdout",
     "output_type": "stream",
     "text": [
      "Hello Welcome\n",
      "Thank for chose us\n"
     ]
    }
   ],
   "source": [
    "#Function\n",
    "#User -define function\n",
    "def greeting():\n",
    "    print('Hello Welcome')\n",
    "    print('Thank for chose us')\n",
    "greeting()    "
   ]
  },
  {
   "cell_type": "code",
   "execution_count": 1,
   "id": "7298659b",
   "metadata": {},
   "outputs": [
    {
     "name": "stdout",
     "output_type": "stream",
     "text": [
      "Would you like to check information?\n",
      "1 Promotion\n",
      "2 Cupon\n",
      "Enter the number of function: 2\n",
      "Cupon if you buy everything about 200 bath , you can show discount bill\n",
      "Cupon if you buy everything about 500 bath , you can show for sent free\n"
     ]
    }
   ],
   "source": [
    "def promotion():\n",
    "    print('Promotion buy 1 get 1 free for Coffee')\n",
    "    print('if you are membership you will get discount 30%')\n",
    "\n",
    "def cuppon():\n",
    "    print('Cupon if you buy everything about 200 bath , you can show discount bill')\n",
    "    print('Cupon if you buy everything about 500 bath , you can show for sent free')\n",
    "    \n",
    "print('Would you like to check information?')\n",
    "print('1 Promotion')\n",
    "print('2 Cupon')\n",
    "\n",
    "chioce =input('Enter the number of function: ')\n",
    "if int(chioce)==1:\n",
    "    promotion()\n",
    "elif int(chioce)==2:\n",
    "    cuppon()\n",
    "else:\n",
    "    print('We dont have this function')"
   ]
  },
  {
   "cell_type": "code",
   "execution_count": 2,
   "id": "a06c1ac1",
   "metadata": {},
   "outputs": [
    {
     "name": "stdout",
     "output_type": "stream",
     "text": [
      "num1 = 1\n",
      "num2 = 2\n",
      "num1+num2 = 3\n",
      "None\n",
      "num1 = 3\n",
      "num2 = 4\n",
      "num1+num2 = 7\n",
      "None\n"
     ]
    }
   ],
   "source": [
    "#Function paramitor style \n",
    "\n",
    "def plus(num1,num2):\n",
    "    print('num1 =',num1)\n",
    "    print('num2 =',num2)\n",
    "    print('num1+num2 =',num1+num2)\n",
    "    \n",
    "print(plus(1,2))\n",
    "print(plus(3,4))"
   ]
  },
  {
   "cell_type": "code",
   "execution_count": 3,
   "id": "bc200ea2",
   "metadata": {},
   "outputs": [
    {
     "name": "stdout",
     "output_type": "stream",
     "text": [
      "ฉันสัญชาติ ไทย\n",
      "ฉันสัญชาติ อินเดีย\n",
      "ฉันสัญชาติ ออสเตเรีย\n"
     ]
    }
   ],
   "source": [
    "def information(nationality = 'ไทย'):\n",
    "    print('ฉันสัญชาติ',nationality)\n",
    "    \n",
    "information('ไทย')\n",
    "information('อินเดีย')\n",
    "information('ออสเตเรีย')\n"
   ]
  },
  {
   "cell_type": "code",
   "execution_count": 4,
   "id": "8229bcbd",
   "metadata": {},
   "outputs": [
    {
     "name": "stdout",
     "output_type": "stream",
     "text": [
      "ฉันสัญชาติ ไทย อายุ 25\n",
      "ฉันสัญชาติ อินเดีย อายุ 32\n",
      "ฉันสัญชาติ ออสเตเรีย อายุ 20\n"
     ]
    }
   ],
   "source": [
    "def information(age,nationality = 'ไทย'):\n",
    "    print('ฉันสัญชาติ',nationality,'อายุ',age)\n",
    "    \n",
    "information(25,'ไทย')\n",
    "information(32,'อินเดีย')\n",
    "information(20,'ออสเตเรีย')\n"
   ]
  },
  {
   "cell_type": "code",
   "execution_count": 5,
   "id": "55652f13",
   "metadata": {},
   "outputs": [
    {
     "name": "stdout",
     "output_type": "stream",
     "text": [
      "ห้อง 1/1\n",
      "นักเรียนคนที่ 1 คือ นายดำ\n",
      "นักเรียนคนสุดท้าย คือ นางสาวเขียว\n",
      "ห้อง 1/2\n",
      "นักเรียนคนที่ 1 คือ นายกล้วย\n",
      "นักเรียนคนสุดท้าย คือ นางสาวน้วย\n"
     ]
    }
   ],
   "source": [
    "#function non limite information\n",
    "def myclass(*std_name):\n",
    "    total_std =len(std_name)\n",
    "    print('นักเรียนคนที่ 1 คือ',std_name[0])\n",
    "    print('นักเรียนคนสุดท้าย คือ',std_name[-1])\n",
    "    \n",
    "print('ห้อง 1/1')\n",
    "myclass('นายดำ','นายแดง','นางสาวชมพู','นางสาวเขียว')\n",
    "print('ห้อง 1/2')\n",
    "myclass('นายกล้วย','นายมะนาว','นางสาวแตงโม','นางสาวน้วย')"
   ]
  },
  {
   "cell_type": "code",
   "execution_count": null,
   "id": "b49f77ca",
   "metadata": {},
   "outputs": [],
   "source": [
    "#function return style \n",
    "\n",
    "def plus(num1,num2):\n",
    "    return num1+num2\n",
    "\n",
    "print(plus(1,2))\n",
    "print(plus(3,4))\n"
   ]
  },
  {
   "cell_type": "code",
   "execution_count": 7,
   "id": "44aba331",
   "metadata": {},
   "outputs": [
    {
     "name": "stdout",
     "output_type": "stream",
     "text": [
      "Enter the width for caculate: 3\n",
      "Enter the lenght for caculate: 2\n",
      "The area of triangle is 6\n"
     ]
    }
   ],
   "source": [
    "def rectang(width,length):\n",
    "    return width*length\n",
    "\n",
    "w = int(input('Enter the width for caculate: '))\n",
    "h =int(input('Enter the lenght for caculate: '))\n",
    "area= rectang(w,h)\n",
    "\n",
    "print('The area of triangle is',area)"
   ]
  },
  {
   "cell_type": "code",
   "execution_count": 8,
   "id": "98c42095",
   "metadata": {},
   "outputs": [
    {
     "name": "stdout",
     "output_type": "stream",
     "text": [
      "Result is 24\n"
     ]
    }
   ],
   "source": [
    "#Gobal variable \n",
    "\n",
    "# the gabla variable is the publice value which outside the function \n",
    "\n",
    "a =2 \n",
    "def test_vale(x):\n",
    "    y=4\n",
    "    return x*y\n",
    "\n",
    "result = a*test_vale(3)\n",
    "print('Result is',result)"
   ]
  },
  {
   "cell_type": "code",
   "execution_count": 12,
   "id": "49aaeb1a",
   "metadata": {},
   "outputs": [
    {
     "name": "stdout",
     "output_type": "stream",
     "text": [
      "                                              2020\n",
      "\n",
      "\n",
      "\n",
      "      January                  February                  March                    April\n",
      "\n",
      "Mo Tu We Th Fr Sa Su     Mo Tu We Th Fr Sa Su     Mo Tu We Th Fr Sa Su     Mo Tu We Th Fr Sa Su\n",
      "\n",
      "       1  2  3  4  5                     1  2                        1            1  2  3  4  5\n",
      "\n",
      " 6  7  8  9 10 11 12      3  4  5  6  7  8  9      2  3  4  5  6  7  8      6  7  8  9 10 11 12\n",
      "\n",
      "13 14 15 16 17 18 19     10 11 12 13 14 15 16      9 10 11 12 13 14 15     13 14 15 16 17 18 19\n",
      "\n",
      "20 21 22 23 24 25 26     17 18 19 20 21 22 23     16 17 18 19 20 21 22     20 21 22 23 24 25 26\n",
      "\n",
      "27 28 29 30 31           24 25 26 27 28 29        23 24 25 26 27 28 29     27 28 29 30\n",
      "\n",
      "                                                  30 31\n",
      "\n",
      "\n",
      "\n",
      "        May                      June                     July                    August\n",
      "\n",
      "Mo Tu We Th Fr Sa Su     Mo Tu We Th Fr Sa Su     Mo Tu We Th Fr Sa Su     Mo Tu We Th Fr Sa Su\n",
      "\n",
      "             1  2  3      1  2  3  4  5  6  7            1  2  3  4  5                     1  2\n",
      "\n",
      " 4  5  6  7  8  9 10      8  9 10 11 12 13 14      6  7  8  9 10 11 12      3  4  5  6  7  8  9\n",
      "\n",
      "11 12 13 14 15 16 17     15 16 17 18 19 20 21     13 14 15 16 17 18 19     10 11 12 13 14 15 16\n",
      "\n",
      "18 19 20 21 22 23 24     22 23 24 25 26 27 28     20 21 22 23 24 25 26     17 18 19 20 21 22 23\n",
      "\n",
      "25 26 27 28 29 30 31     29 30                    27 28 29 30 31           24 25 26 27 28 29 30\n",
      "\n",
      "                                                                           31\n",
      "\n",
      "\n",
      "\n",
      "     September                 October                  November                 December\n",
      "\n",
      "Mo Tu We Th Fr Sa Su     Mo Tu We Th Fr Sa Su     Mo Tu We Th Fr Sa Su     Mo Tu We Th Fr Sa Su\n",
      "\n",
      "    1  2  3  4  5  6               1  2  3  4                        1         1  2  3  4  5  6\n",
      "\n",
      " 7  8  9 10 11 12 13      5  6  7  8  9 10 11      2  3  4  5  6  7  8      7  8  9 10 11 12 13\n",
      "\n",
      "14 15 16 17 18 19 20     12 13 14 15 16 17 18      9 10 11 12 13 14 15     14 15 16 17 18 19 20\n",
      "\n",
      "21 22 23 24 25 26 27     19 20 21 22 23 24 25     16 17 18 19 20 21 22     21 22 23 24 25 26 27\n",
      "\n",
      "28 29 30                 26 27 28 29 30 31        23 24 25 26 27 28 29     28 29 30 31\n",
      "\n",
      "                                                  30\n",
      "\n",
      "\n"
     ]
    }
   ],
   "source": [
    "#Built in modules \n",
    "\n",
    "#สร้างมาไว้ให้ใช้อยู่แล้ว\n",
    "\n",
    "import calendar\n",
    "\n",
    "print(calendar.calendar(2020,1,2,5,4))"
   ]
  },
  {
   "cell_type": "code",
   "execution_count": null,
   "id": "f0e60511",
   "metadata": {},
   "outputs": [],
   "source": []
  }
 ],
 "metadata": {
  "kernelspec": {
   "display_name": "Python 3 (ipykernel)",
   "language": "python",
   "name": "python3"
  },
  "language_info": {
   "codemirror_mode": {
    "name": "ipython",
    "version": 3
   },
   "file_extension": ".py",
   "mimetype": "text/x-python",
   "name": "python",
   "nbconvert_exporter": "python",
   "pygments_lexer": "ipython3",
   "version": "3.9.12"
  }
 },
 "nbformat": 4,
 "nbformat_minor": 5
}
