{
 "cells": [
  {
   "cell_type": "code",
   "execution_count": 1,
   "id": "4eee7bc0",
   "metadata": {},
   "outputs": [
    {
     "name": "stdout",
     "output_type": "stream",
     "text": [
      "3+2 = 5\n",
      "3-2 = 1\n",
      "3*2 = 6\n",
      "3/2 = 1.5\n",
      "3%2 = 1\n",
      "3**2 = 9\n",
      "3//2 = 1\n"
     ]
    }
   ],
   "source": [
    "#Arithmetic operation\n",
    "\n",
    "print('3+2 =',3+2)\n",
    "print('3-2 =',3-2)\n",
    "print('3*2 =',3*2)\n",
    "print('3/2 =',3/2)\n",
    "print('3%2 =',3%2)\n",
    "print('3**2 =',3**2)\n",
    "print('3//2 =',3//2)\n"
   ]
  },
  {
   "cell_type": "code",
   "execution_count": 2,
   "id": "53c90ec7",
   "metadata": {},
   "outputs": [
    {
     "name": "stdout",
     "output_type": "stream",
     "text": [
      "a = False\n",
      "b = True\n",
      "a and b = False\n",
      "a or b = True\n",
      "not a = True\n",
      "not b = False\n"
     ]
    }
   ],
   "source": [
    "# Logical operation\n",
    "a = 5<4\n",
    "b = 10<20\n",
    "\n",
    "print('a =',a)\n",
    "print('b =',b)\n",
    "print('a and b =',a and b)\n",
    "print('a or b =', a or b)\n",
    "print('not a =',not a)\n",
    "print('not b =',not b)"
   ]
  },
  {
   "cell_type": "code",
   "execution_count": 6,
   "id": "33afcc5f",
   "metadata": {},
   "outputs": [
    {
     "name": "stdout",
     "output_type": "stream",
     "text": [
      "เลข10 ฐานสิบมีค่าท่ากับ 0b1010 ฐานสอง\n",
      "เลข2 ฐานสิบมีค่าท่ากับ 0b10 ฐานสอง\n",
      "a & b =  2\n",
      "a | b =  10\n",
      "a ^ b = 8\n",
      "~a =  -11\n",
      "~b =  -3\n",
      "a<<b = 40\n",
      "a>>b = 2\n"
     ]
    }
   ],
   "source": [
    "#Bitwise operation\n",
    "\n",
    "a=10 \n",
    "b=2 \n",
    "\n",
    "print('เลข10 ฐานสิบมีค่าท่ากับ',bin(a),'ฐานสอง')\n",
    "print('เลข2 ฐานสิบมีค่าท่ากับ',bin(b),'ฐานสอง')\n",
    "\n",
    "print('a & b = ',a&b)\n",
    "print('a | b = ',a|b)\n",
    "print('a ^ b =',a^b)\n",
    "print( '~a = ',~a)\n",
    "print( '~b = ',~b)\n",
    "print('a<<b =',a<<b)\n",
    "print('a>>b =',a>>b)"
   ]
  },
  {
   "cell_type": "code",
   "execution_count": 10,
   "id": "3b59567b",
   "metadata": {},
   "outputs": [
    {
     "name": "stdout",
     "output_type": "stream",
     "text": [
      "a เท่ากับ 3\n",
      " b c d e f g h i j k l m เท่ากับ 4\n",
      "b+=3 7\n",
      "c-=3 1\n",
      "c*= 12\n",
      "e/=3 1.3333333333333333\n",
      "f%=3 1\n",
      "g//=3 1\n",
      "h**=3 64\n",
      "i&=3 0\n",
      "j|=3 7\n",
      "k^=3 7\n",
      "l<<=3 32\n",
      "m>>=3 0\n"
     ]
    }
   ],
   "source": [
    "# Assignment operation\n",
    "\n",
    "a = 3\n",
    "print('a เท่ากับ',a)\n",
    "b=c=d=e=f=g=h=i=j=k=l=m=4\n",
    "print(' b c d e f g h i j k l m เท่ากับ 4')\n",
    "b+=3\n",
    "print('b+=3',b)\n",
    "c-=3\n",
    "print('c-=3',c)\n",
    "d*=3\n",
    "print('c*=',d)\n",
    "e/=3\n",
    "print('e/=3',e)\n",
    "f%=3\n",
    "print('f%=3',f)\n",
    "g//=3\n",
    "print('g//=3',g)\n",
    "h**=3\n",
    "print('h**=3',h)\n",
    "i&=3\n",
    "print('i&=3',i)\n",
    "j|=3\n",
    "print('j|=3',j)\n",
    "k^=3\n",
    "print('k^=3',k)\n",
    "l<<=3\n",
    "print('l<<=3',l)\n",
    "m>>=3\n",
    "print('m>>=3',m)"
   ]
  },
  {
   "cell_type": "code",
   "execution_count": 11,
   "id": "00692b79",
   "metadata": {},
   "outputs": [
    {
     "name": "stdout",
     "output_type": "stream",
     "text": [
      "True\n",
      "False\n",
      "False\n",
      "True\n",
      "True\n",
      "True\n"
     ]
    }
   ],
   "source": [
    "#Comparison operator \n",
    "a =3\n",
    "b=5\n",
    "c=3 \n",
    "\n",
    "print(a==c)\n",
    "print(a!=c)\n",
    "print(a>b)\n",
    "print(a<b)\n",
    "print(a>=c)\n",
    "print(a<=c)"
   ]
  },
  {
   "cell_type": "code",
   "execution_count": 12,
   "id": "e1aa136b",
   "metadata": {},
   "outputs": [
    {
     "name": "stdout",
     "output_type": "stream",
     "text": [
      "True\n",
      "False\n",
      "False\n",
      "True\n"
     ]
    }
   ],
   "source": [
    "#Identity operation\n",
    " \n",
    "a=['red','blue','green']\n",
    "b=['green','red','blue']\n",
    "c= a\n",
    "print(a is c)\n",
    "print(a is b)\n",
    "print(a is not c)\n",
    "print(a is not b)"
   ]
  },
  {
   "cell_type": "code",
   "execution_count": 13,
   "id": "60bd0f09",
   "metadata": {},
   "outputs": [
    {
     "name": "stdout",
     "output_type": "stream",
     "text": [
      "True\n",
      "False\n"
     ]
    }
   ],
   "source": [
    "#Mebership operation\n",
    "a=['red','blue','green']\n",
    "print('red' in a )\n",
    "print('blue'not in a)"
   ]
  },
  {
   "cell_type": "code",
   "execution_count": null,
   "id": "fb278cbe",
   "metadata": {},
   "outputs": [],
   "source": []
  }
 ],
 "metadata": {
  "kernelspec": {
   "display_name": "Python 3 (ipykernel)",
   "language": "python",
   "name": "python3"
  },
  "language_info": {
   "codemirror_mode": {
    "name": "ipython",
    "version": 3
   },
   "file_extension": ".py",
   "mimetype": "text/x-python",
   "name": "python",
   "nbconvert_exporter": "python",
   "pygments_lexer": "ipython3",
   "version": "3.9.12"
  }
 },
 "nbformat": 4,
 "nbformat_minor": 5
}
