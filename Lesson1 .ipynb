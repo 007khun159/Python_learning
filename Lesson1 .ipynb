{
 "cells": [
  {
   "cell_type": "code",
   "execution_count": 16,
   "id": "eb4e1a30",
   "metadata": {},
   "outputs": [
    {
     "name": "stdout",
     "output_type": "stream",
     "text": [
      "Sum is result of adding two number , for example1+1 2\n"
     ]
    }
   ],
   "source": [
    "#Print Continuation\n",
    "\n",
    "print(\"Sum is result of adding two number , for example\"\\\n",
    "      \"1+1\",1+1)"
   ]
  },
  {
   "cell_type": "code",
   "execution_count": 17,
   "id": "e1105097",
   "metadata": {},
   "outputs": [
    {
     "name": "stdout",
     "output_type": "stream",
     "text": [
      "Please Enter the score: 2\n"
     ]
    },
    {
     "data": {
      "text/plain": [
       "'2'"
      ]
     },
     "execution_count": 17,
     "metadata": {},
     "output_type": "execute_result"
    }
   ],
   "source": [
    "#Input \n",
    "input('Please Enter the score: ')\n",
    "input('How old are you: ')"
   ]
  },
  {
   "cell_type": "code",
   "execution_count": 18,
   "id": "e5048292",
   "metadata": {},
   "outputs": [
    {
     "name": "stdout",
     "output_type": "stream",
     "text": [
      "I love you python\n",
      "I love you python  123\n",
      "I lovepython\n"
     ]
    },
    {
     "ename": "TypeError",
     "evalue": "can only concatenate str (not \"int\") to str",
     "output_type": "error",
     "traceback": [
      "\u001b[1;31m---------------------------------------------------------------------------\u001b[0m",
      "\u001b[1;31mTypeError\u001b[0m                                 Traceback (most recent call last)",
      "Input \u001b[1;32mIn [18]\u001b[0m, in \u001b[0;36m<cell line: 5>\u001b[1;34m()\u001b[0m\n\u001b[0;32m      3\u001b[0m \u001b[38;5;28mprint\u001b[39m(\u001b[38;5;124m'\u001b[39m\u001b[38;5;124mI love you python \u001b[39m\u001b[38;5;124m'\u001b[39m,\u001b[38;5;241m123\u001b[39m)\n\u001b[0;32m      4\u001b[0m \u001b[38;5;28mprint\u001b[39m(\u001b[38;5;124m\"\u001b[39m\u001b[38;5;124mI love\u001b[39m\u001b[38;5;124m\"\u001b[39m\u001b[38;5;241m+\u001b[39m\u001b[38;5;124m'\u001b[39m\u001b[38;5;124mpython\u001b[39m\u001b[38;5;124m'\u001b[39m)\n\u001b[1;32m----> 5\u001b[0m \u001b[38;5;28mprint\u001b[39m(\u001b[38;5;124;43m'\u001b[39;49m\u001b[38;5;124;43mI love\u001b[39;49m\u001b[38;5;124;43m'\u001b[39;49m\u001b[38;5;241;43m+\u001b[39;49m\u001b[38;5;124;43m'\u001b[39;49m\u001b[38;5;124;43mpython\u001b[39;49m\u001b[38;5;124;43m'\u001b[39;49m\u001b[38;5;241;43m+\u001b[39;49m\u001b[38;5;241;43m123\u001b[39;49m)\n",
      "\u001b[1;31mTypeError\u001b[0m: can only concatenate str (not \"int\") to str"
     ]
    }
   ],
   "source": [
    "#Print function  \n",
    "print(\"I love you python\")\n",
    "print('I love you python ',123)\n",
    "print(\"I love\"+'python')\n",
    "print('I love'+'python'+123)"
   ]
  },
  {
   "cell_type": "code",
   "execution_count": 22,
   "id": "9e6e7abb",
   "metadata": {},
   "outputs": [
    {
     "name": "stdout",
     "output_type": "stream",
     "text": [
      "Vanila|Stawberry|Chocolate\n",
      "Vanila- -Stawberry- -Chocolate\n",
      "red|blue|green\n"
     ]
    }
   ],
   "source": [
    "print('Vanila','Stawberry','Chocolate',sep='|')\n",
    "print('Vanila','Stawberry','Chocolate',sep='- -')\n",
    "print('red','blue','green',sep= '|')"
   ]
  },
  {
   "cell_type": "code",
   "execution_count": null,
   "id": "474b5d71",
   "metadata": {},
   "outputs": [],
   "source": []
  }
 ],
 "metadata": {
  "kernelspec": {
   "display_name": "Python 3 (ipykernel)",
   "language": "python",
   "name": "python3"
  },
  "language_info": {
   "codemirror_mode": {
    "name": "ipython",
    "version": 3
   },
   "file_extension": ".py",
   "mimetype": "text/x-python",
   "name": "python",
   "nbconvert_exporter": "python",
   "pygments_lexer": "ipython3",
   "version": "3.9.12"
  }
 },
 "nbformat": 4,
 "nbformat_minor": 5
}
