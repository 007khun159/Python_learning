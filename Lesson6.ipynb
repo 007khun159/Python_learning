{
 "cells": [
  {
   "cell_type": "code",
   "execution_count": 1,
   "id": "0dbd5ac8",
   "metadata": {},
   "outputs": [
    {
     "name": "stdout",
     "output_type": "stream",
     "text": [
      "1\n",
      "3\n",
      "5\n",
      "7\n",
      "9\n"
     ]
    }
   ],
   "source": [
    "#While Loop\n",
    "\n",
    "i=1\n",
    "\n",
    "while i <=10:\n",
    "    print(i)\n",
    "    i+=2"
   ]
  },
  {
   "cell_type": "code",
   "execution_count": 4,
   "id": "0c401d45",
   "metadata": {},
   "outputs": [
    {
     "name": "stdout",
     "output_type": "stream",
     "text": [
      "1\n",
      "2\n",
      "3\n",
      "End of loop\n",
      "the result of sum 6\n"
     ]
    }
   ],
   "source": [
    "i=1 \n",
    "sum=0\n",
    "while i <=3:\n",
    "    print(i)\n",
    "    sum = sum+i\n",
    "    i+=1\n",
    "print('End of loop')\n",
    "print('the result of sum',sum)"
   ]
  },
  {
   "cell_type": "code",
   "execution_count": 7,
   "id": "371245c8",
   "metadata": {},
   "outputs": [
    {
     "name": "stdout",
     "output_type": "stream",
     "text": [
      "Guess number 1-10 \n",
      "Enter the number for guess: 1\n",
      "That less\n",
      "Enter the number for guess: 2\n",
      "That less\n",
      "Enter the number for guess: 3\n",
      "That less\n",
      "Enter the number for guess: 4\n",
      "That less\n",
      "Enter the number for guess: 5\n",
      "That less\n",
      "Enter the number for guess: 6\n",
      "That less\n",
      "Enter the number for guess: 9\n",
      "More than I think\n",
      "Enter the number for guess: 8\n",
      "Congratulation\n"
     ]
    }
   ],
   "source": [
    "#Guess number \n",
    "\n",
    "print('Guess number 1-10 ')\n",
    "number=0\n",
    "\n",
    "while int(number)!=8:\n",
    "    number= input('Enter the number for guess: ')\n",
    "    if (int(number)>8):\n",
    "        print('More than I think')\n",
    "    elif (int(number)<8):\n",
    "        print('That less')\n",
    "    else:\n",
    "        print('Congratulation')"
   ]
  },
  {
   "cell_type": "code",
   "execution_count": 8,
   "id": "83a043fc",
   "metadata": {},
   "outputs": [
    {
     "name": "stdout",
     "output_type": "stream",
     "text": [
      "1\n",
      "3\n",
      "5\n",
      "End of Loop\n"
     ]
    }
   ],
   "source": [
    "#Break \n",
    "\n",
    "i =1 \n",
    "while i <=10:\n",
    "    print(i)\n",
    "    if i ==5:\n",
    "        break\n",
    "        \n",
    "    i+=2\n",
    "print('End of Loop')"
   ]
  },
  {
   "cell_type": "code",
   "execution_count": 1,
   "id": "d8d9c5b2",
   "metadata": {},
   "outputs": [
    {
     "name": "stdout",
     "output_type": "stream",
     "text": [
      "0\n",
      "2\n",
      "4\n",
      "6\n",
      "8\n",
      "10\n",
      "End of Loop\n"
     ]
    }
   ],
   "source": [
    "#Continune\n",
    "i =0\n",
    "while i <=10:\n",
    "    print(i)\n",
    "    i+=2\n",
    "    if i ==6:\n",
    "        continue\n",
    "        \n",
    "\n",
    "print('End of Loop')"
   ]
  },
  {
   "cell_type": "code",
   "execution_count": 2,
   "id": "49df000d",
   "metadata": {},
   "outputs": [
    {
     "name": "stdout",
     "output_type": "stream",
     "text": [
      "2\n",
      "4\n",
      "6\n",
      "8\n",
      "10\n",
      "End of odd number\n"
     ]
    }
   ],
   "source": [
    "#While + else\n",
    "\n",
    "i = 0\n",
    "while i <10:\n",
    "    i+=2\n",
    "    print(i)\n",
    "else: \n",
    "    print('End of odd number')"
   ]
  },
  {
   "cell_type": "code",
   "execution_count": 3,
   "id": "69f4129c",
   "metadata": {},
   "outputs": [
    {
     "name": "stdout",
     "output_type": "stream",
     "text": [
      "H\n",
      "e\n",
      "l\n",
      "l\n",
      "o\n"
     ]
    }
   ],
   "source": [
    "#For loop\n",
    "mystr ='Hello'\n",
    "for x in mystr:\n",
    "    print(x)"
   ]
  },
  {
   "cell_type": "code",
   "execution_count": 5,
   "id": "9b354863",
   "metadata": {},
   "outputs": [
    {
     "name": "stdout",
     "output_type": "stream",
     "text": [
      "apple\n",
      "orange\n",
      "square\n",
      "circle\n",
      "chocolate\n",
      "Vanila\n",
      "Stawberry\n",
      "1\n",
      "2\n",
      "3\n"
     ]
    }
   ],
   "source": [
    "mylist = ['apple','orange']\n",
    "mytuple =('square','circle')\n",
    "myset = ['chocolate','Vanila','Stawberry']\n",
    "mydict = {\n",
    "    1:'one',\n",
    "    2:'two',\n",
    "    3:'three'\n",
    "}\n",
    "\n",
    "for x in mylist :\n",
    "    print(x)\n",
    "for  x in mytuple:\n",
    "    print(x)\n",
    "for x in myset:\n",
    "    print(x)\n",
    "for x in mydict:\n",
    "    print(x)"
   ]
  },
  {
   "cell_type": "code",
   "execution_count": 6,
   "id": "82bf675d",
   "metadata": {},
   "outputs": [
    {
     "name": "stdout",
     "output_type": "stream",
     "text": [
      "round 0\n",
      "*\n",
      "round 1\n",
      "*\n",
      "round 2\n",
      "*\n",
      "round 3\n",
      "*\n",
      "round 4\n",
      "*\n"
     ]
    }
   ],
   "source": [
    "# for loop range \n",
    "\n",
    "for x in range(5):\n",
    "    print('round',x)\n",
    "    print('*')"
   ]
  },
  {
   "cell_type": "code",
   "execution_count": 7,
   "id": "fc2f80f6",
   "metadata": {},
   "outputs": [
    {
     "name": "stdout",
     "output_type": "stream",
     "text": [
      "2* 1 เท่ากับ 2\n",
      "2* 2 เท่ากับ 4\n",
      "2* 3 เท่ากับ 6\n",
      "2* 4 เท่ากับ 8\n",
      "2* 5 เท่ากับ 10\n",
      "2* 6 เท่ากับ 12\n",
      "2* 7 เท่ากับ 14\n",
      "2* 8 เท่ากับ 16\n",
      "2* 9 เท่ากับ 18\n",
      "2* 10 เท่ากับ 20\n",
      "2* 11 เท่ากับ 22\n",
      "2* 12 เท่ากับ 24\n"
     ]
    }
   ],
   "source": [
    "i=1\n",
    "for x in range(12):\n",
    "    print('2*',i,'เท่ากับ',2*i)\n",
    "    i+=1"
   ]
  },
  {
   "cell_type": "code",
   "execution_count": 10,
   "id": "f76f261a",
   "metadata": {},
   "outputs": [
    {
     "name": "stdout",
     "output_type": "stream",
     "text": [
      "1011121314151617181920\n",
      "13579"
     ]
    }
   ],
   "source": [
    "for x in range(10,21):\n",
    "    print(x,end='')\n",
    "print('')\n",
    "for  z in range(1,10,2):\n",
    "    print(z ,end ='')"
   ]
  },
  {
   "cell_type": "code",
   "execution_count": 13,
   "id": "6db96d18",
   "metadata": {},
   "outputs": [
    {
     "name": "stdout",
     "output_type": "stream",
     "text": [
      "i = 1 x = 0 x*i 0\n",
      "i = 2 x = 1 x*i 2\n",
      "i = 3 x = 2 x*i 6\n"
     ]
    }
   ],
   "source": [
    "# for loop + break \n",
    "i =1 \n",
    "for x in range(5):\n",
    "    if i ==4:\n",
    "        break\n",
    "    print('i =',i,'x =',x,'x*i',x*i)\n",
    "    i+=1"
   ]
  },
  {
   "cell_type": "code",
   "execution_count": 15,
   "id": "c87ab0fe",
   "metadata": {},
   "outputs": [
    {
     "name": "stdout",
     "output_type": "stream",
     "text": [
      "red\n",
      "green\n",
      "white\n",
      "blue\n",
      "purple\n",
      "End of process\n"
     ]
    }
   ],
   "source": [
    "color = ['red','green','white','blue','purple','pink','yellow','brown']\n",
    "\n",
    "for x in color:\n",
    "    print(x)\n",
    "    if x == 'purple':\n",
    "        break\n",
    "print('End of process')"
   ]
  },
  {
   "cell_type": "code",
   "execution_count": 18,
   "id": "06d7b9b9",
   "metadata": {},
   "outputs": [
    {
     "name": "stdout",
     "output_type": "stream",
     "text": [
      "0\n",
      "1\n",
      "2\n",
      "4\n",
      "End of process\n"
     ]
    }
   ],
   "source": [
    "#for loop + continune \n",
    "for x in range(5):\n",
    "    if x==3:\n",
    "        continue\n",
    "    print(x)\n",
    "print('End of process')"
   ]
  },
  {
   "cell_type": "code",
   "execution_count": 19,
   "id": "c025ab8d",
   "metadata": {},
   "outputs": [
    {
     "name": "stdout",
     "output_type": "stream",
     "text": [
      "red\n",
      "green\n",
      "white\n",
      "blue\n",
      "purple\n",
      "pink\n",
      "yellow\n",
      "brown\n",
      "End of process\n"
     ]
    }
   ],
   "source": [
    "color = ['red','green','white','blue','purple','pink','yellow','brown']\n",
    "\n",
    "for x in color:\n",
    "    print(x)\n",
    "    if x == 'purple':\n",
    "        continue\n",
    "print('End of process')"
   ]
  },
  {
   "cell_type": "code",
   "execution_count": 20,
   "id": "5f4ff6fc",
   "metadata": {},
   "outputs": [
    {
     "name": "stdout",
     "output_type": "stream",
     "text": [
      "red\n",
      "blue\n",
      "green\n",
      "End of loop\n"
     ]
    }
   ],
   "source": [
    "# for loop + eles\n",
    "\n",
    "color = ['red','blue','green']\n",
    "\n",
    "for x in color: \n",
    "    print(x)\n",
    "    \n",
    "else: \n",
    "    print('End of loop')"
   ]
  },
  {
   "cell_type": "code",
   "execution_count": 21,
   "id": "0c2d0a8b",
   "metadata": {},
   "outputs": [
    {
     "name": "stdout",
     "output_type": "stream",
     "text": [
      "1\n",
      "2\n",
      "3\n"
     ]
    }
   ],
   "source": [
    "for x in range(1,10,2):\n",
    "    pass\n",
    "for x in range(5):\n",
    "    if(x== 0 or x==4):\n",
    "        pass\n",
    "    else: \n",
    "        print(x)"
   ]
  },
  {
   "cell_type": "code",
   "execution_count": 24,
   "id": "52b2d073",
   "metadata": {},
   "outputs": [
    {
     "name": "stdout",
     "output_type": "stream",
     "text": [
      "//outer loop// red\n",
      "//inner loop// t-shirt\n",
      "red t-shirt\n",
      "//inner loop// skirt\n",
      "red skirt\n",
      "\n",
      "//outer loop// green\n",
      "//inner loop// t-shirt\n",
      "green t-shirt\n",
      "//inner loop// skirt\n",
      "green skirt\n",
      "\n"
     ]
    }
   ],
   "source": [
    "# for loop nested  style \n",
    "\n",
    "color  = ['red','green']\n",
    "thing =['t-shirt','skirt']\n",
    "\n",
    "for x in color : \n",
    "    print('//outer loop//',x)\n",
    "    for  y in thing:\n",
    "        print(\"//inner loop//\",y)\n",
    "        print(x,y)\n",
    "    print('')"
   ]
  },
  {
   "cell_type": "code",
   "execution_count": null,
   "id": "84c337d1",
   "metadata": {},
   "outputs": [],
   "source": []
  }
 ],
 "metadata": {
  "kernelspec": {
   "display_name": "Python 3 (ipykernel)",
   "language": "python",
   "name": "python3"
  },
  "language_info": {
   "codemirror_mode": {
    "name": "ipython",
    "version": 3
   },
   "file_extension": ".py",
   "mimetype": "text/x-python",
   "name": "python",
   "nbconvert_exporter": "python",
   "pygments_lexer": "ipython3",
   "version": "3.9.12"
  }
 },
 "nbformat": 4,
 "nbformat_minor": 5
}
