{
 "cells": [
  {
   "cell_type": "code",
   "execution_count": null,
   "id": "ed9adb8e",
   "metadata": {},
   "outputs": [],
   "source": [
    "#Type of information"
   ]
  },
  {
   "cell_type": "code",
   "execution_count": 1,
   "id": "1f0b8a58",
   "metadata": {},
   "outputs": [],
   "source": [
    "# Numric\n"
   ]
  },
  {
   "cell_type": "code",
   "execution_count": 3,
   "id": "31988bd5",
   "metadata": {},
   "outputs": [
    {
     "name": "stdout",
     "output_type": "stream",
     "text": [
      "10\n",
      "0b1010\n",
      "0o12\n",
      "0xa\n"
     ]
    }
   ],
   "source": [
    "#intiger \n",
    "num_base10 = 10\n",
    "num_base2 = bin(10)\n",
    "num_base8 = oct(10)\n",
    "num_base16 = hex(10)\n",
    "\n",
    "print(num_base10)\n",
    "print(num_base2)\n",
    "print(num_base8)\n",
    "print(num_base16)\n",
    "\n"
   ]
  },
  {
   "cell_type": "code",
   "execution_count": 8,
   "id": "088d9ca4",
   "metadata": {},
   "outputs": [
    {
     "name": "stdout",
     "output_type": "stream",
     "text": [
      "ค่าของ c_num1 คือ (-4.5+2j)\n",
      "ค่าจำนวนจริงของ c_num1 คือ -4.5\n",
      "ค่าจำนวนจินตภาพของ c_num1 คือ 2.0\n",
      "\n",
      "c_num1= (-4.5+2j)\n",
      "c_num2= (-4.5+2j)\n",
      "\n",
      "ค่าของ c_num3 คือ (5.5+2j)\n",
      "c_num2 + c_num3 (1+4j)\n",
      "c_num2*2  = (-9+4j)\n"
     ]
    }
   ],
   "source": [
    "#Complex Number \n",
    "c_num1 = complex(-4.5,2)\n",
    "print('ค่าของ c_num1 คือ',c_num1)\n",
    "print('ค่าจำนวนจริงของ c_num1 คือ',c_num1.real)\n",
    "print('ค่าจำนวนจินตภาพของ c_num1 คือ',c_num1.imag)\n",
    "print()\n",
    "\n",
    "\n",
    "c_num2 = -4.5+2j\n",
    "print('c_num1=', c_num1)\n",
    "print('c_num2=',c_num2)\n",
    "print()\n",
    "\n",
    "c_num3 = 5.5+2j\n",
    "print('ค่าของ c_num3 คือ',c_num3)\n",
    "print('c_num2 + c_num3',c_num2 + c_num3)\n",
    "print('c_num2*2  =',c_num2*2)"
   ]
  },
  {
   "cell_type": "code",
   "execution_count": null,
   "id": "52aab8d1",
   "metadata": {},
   "outputs": [],
   "source": [
    "#Boolean \n",
    "\n",
    "# IT's about True and False\n"
   ]
  },
  {
   "cell_type": "code",
   "execution_count": 11,
   "id": "9d6736de",
   "metadata": {},
   "outputs": [
    {
     "name": "stdout",
     "output_type": "stream",
     "text": [
      "5\n",
      "5\n",
      "H\n",
      "o\n",
      "e\n",
      "o\n",
      "H\n",
      "o\n"
     ]
    }
   ],
   "source": [
    "#String \n",
    "print(len('Hello'))\n",
    "msg = 'Hello'\n",
    "print(len(msg))\n",
    "\n",
    "\n",
    "print(\"Hello\"[0])\n",
    "print('Hello'[4])\n",
    "chr = 'Hello'\n",
    "print(chr[1])\n",
    "print(chr[4])\n",
    "print(chr[-5])\n",
    "print(chr[-1])"
   ]
  },
  {
   "cell_type": "code",
   "execution_count": 12,
   "id": "7b233eb7",
   "metadata": {},
   "outputs": [
    {
     "name": "stdout",
     "output_type": "stream",
     "text": [
      "Hello\n",
      "Python\n",
      "Hello\n",
      "Hello\n",
      "Python\n"
     ]
    }
   ],
   "source": [
    "chr = 'Hello Python'\n",
    "print(chr[0:5])\n",
    "print(chr[6:12])\n",
    "print(chr[:5])\n",
    "print(chr[-13:-7])\n",
    "print(chr[6:])\n"
   ]
  },
  {
   "cell_type": "code",
   "execution_count": 13,
   "id": "6c88ac75",
   "metadata": {},
   "outputs": [
    {
     "name": "stdout",
     "output_type": "stream",
     "text": [
      "Python\n",
      "HelloPy\n",
      "HelloPython\n",
      "HelloPython\n"
     ]
    }
   ],
   "source": [
    "#Removeprefix and Removesuffix\n",
    "\n",
    "#Removeprefix ตัดคำหน้า \n",
    "#Removesuffix ตัดคำท้าย\n",
    "\n",
    "str='HelloPython'\n",
    "result = str.removeprefix('Hello')\n",
    "print(result)\n",
    "result = str.removesuffix('thon')\n",
    "print(result)\n",
    "result = str.removeprefix('Hi')\n",
    "print(result)\n",
    "result= str.removesuffix('Pymongo')\n",
    "print(result)"
   ]
  },
  {
   "cell_type": "code",
   "execution_count": 15,
   "id": "99c3f0fa",
   "metadata": {},
   "outputs": [
    {
     "name": "stdout",
     "output_type": "stream",
     "text": [
      "5\n",
      "5\n",
      "apple\n",
      "grape\n",
      "orange\n",
      "banana\n"
     ]
    }
   ],
   "source": [
    "# ชนิดของข้อมูล List \n",
    "\n",
    "price = [550,1350,75,820.5,200]\n",
    "fruit = ['orange','apple','kiwi','grape','banana']\n",
    "number= [2,4,6,8]\n",
    "amount = [250,250,350,300]\n",
    "\n",
    "#Len\n",
    "print(len(price))\n",
    "print(len(fruit))\n",
    "\n",
    "\n",
    "# find index\n",
    "print()\n",
    "print(fruit[1])\n",
    "print(fruit[3])\n",
    "print(fruit[-5])\n",
    "print(fruit[-1])\n",
    "print()"
   ]
  },
  {
   "cell_type": "code",
   "execution_count": 20,
   "id": "beb7eb02",
   "metadata": {},
   "outputs": [
    {
     "name": "stdout",
     "output_type": "stream",
     "text": [
      "['orange', 'apple', 'kiwi', 'grape', 'banana']\n",
      "['orange', 'apple', 'kiwi', 'grape']\n",
      "['kiwi', 'grape']\n",
      "['orange', 'apple']\n",
      "['apple', 'kiwi', 'grape', 'banana']\n",
      "['orange', 'apple', 'kiwi', 'grape', 'banana']\n"
     ]
    }
   ],
   "source": [
    "print(fruit[0:5])\n",
    "print(fruit[0:4])\n",
    "print(fruit[2:4])\n",
    "print(fruit[-5:-3])\n",
    "print(fruit[-4:])\n",
    "print(fruit[:5])"
   ]
  },
  {
   "cell_type": "code",
   "execution_count": 21,
   "id": "0cc31b04",
   "metadata": {},
   "outputs": [
    {
     "name": "stdout",
     "output_type": "stream",
     "text": [
      "['orange', 'apple', 'kiwi', 'grape', 'banana']\n",
      "['cherry', 'apple', 'kiwi', 'grape', 'apple']\n"
     ]
    }
   ],
   "source": [
    "#change information\n",
    "fruit = ['orange','apple','kiwi','grape','banana']\n",
    "print(fruit)\n",
    "fruit[0]='cherry'\n",
    "fruit[4]='apple'\n",
    "print(fruit)"
   ]
  },
  {
   "cell_type": "code",
   "execution_count": 23,
   "id": "b8509998",
   "metadata": {},
   "outputs": [
    {
     "name": "stdout",
     "output_type": "stream",
     "text": [
      "['apple', 'orange', 'kiwi', 'grape', 'banana']\n",
      "['apple', 'orange', 'kiwi', 'grape', 'banana', 'cherry']\n"
     ]
    }
   ],
   "source": [
    "#Add information\n",
    "fruit = ['apple','orange','kiwi','grape','banana']\n",
    "print(fruit)\n",
    "fruit.append('cherry')\n",
    "print(fruit)"
   ]
  },
  {
   "cell_type": "code",
   "execution_count": 24,
   "id": "0b13c99d",
   "metadata": {},
   "outputs": [
    {
     "name": "stdout",
     "output_type": "stream",
     "text": [
      "['apple', 'orange', 'kiwi', 'grape', 'banana']\n",
      "['cherry', 'apple', 'papaya', 'orange', 'kiwi', 'grape', 'banana']\n"
     ]
    }
   ],
   "source": [
    "#insert inforamtion \n",
    "fruit = ['apple','orange','kiwi','grape','banana']\n",
    "print(fruit)\n",
    "fruit.insert(0,'cherry')\n",
    "fruit.insert(2,'papaya')\n",
    "print(fruit)"
   ]
  },
  {
   "cell_type": "code",
   "execution_count": 29,
   "id": "0f31b34a",
   "metadata": {},
   "outputs": [
    {
     "name": "stdout",
     "output_type": "stream",
     "text": [
      "['apple', 'kiwi', 'grape', 'banana']\n",
      "['red', 'blue']\n",
      "[]\n"
     ]
    }
   ],
   "source": [
    "#Remove #Del\n",
    "fruit = ['apple','orange','kiwi','grape','banana']\n",
    "fruit.remove('orange')\n",
    "print(fruit)\n",
    "color= ['red','green','blue']\n",
    "del color[1]\n",
    "print(color)\n",
    "del color[:]\n",
    "print(color)"
   ]
  },
  {
   "cell_type": "code",
   "execution_count": 32,
   "id": "9457ed48",
   "metadata": {},
   "outputs": [
    {
     "name": "stdout",
     "output_type": "stream",
     "text": [
      "['Nadia', 'Nadeem', 'Nana', 'Alex', 'Alice']\n"
     ]
    }
   ],
   "source": [
    "# Plust list \n",
    "student_list1 = ['Nadia','Nadeem','Nana']\n",
    "student_list2 = ['Alex','Alice']\n",
    "student = student_list1+student_list2\n",
    "print(student)"
   ]
  },
  {
   "cell_type": "code",
   "execution_count": 35,
   "id": "dea2c120",
   "metadata": {},
   "outputs": [
    {
     "name": "stdout",
     "output_type": "stream",
     "text": [
      "shape_tuple1 ('square', 'Circle', 'triangle', 'rectangel', 'star')\n",
      "shape_tuple2 ('heart', 'oval')\n",
      "shape_tuple1 =  5\n",
      "shape_tuple1[0] = square\n",
      "shape_tuple1[4] = star\n",
      "shape_tuple1[-5] = square\n",
      "shape_tuple1[-1] = star\n",
      "shape_tuple1[0:5] = ('square', 'Circle', 'triangle', 'rectangel', 'star')\n",
      "shape_tuple1[:5] = ('square', 'Circle', 'triangle', 'rectangel', 'star')\n",
      "shape_tuple1[-4:] = ('Circle', 'triangle', 'rectangel', 'star')\n",
      "('square', 'Circle', 'triangle', 'rectangel', 'star', 'heart', 'oval')\n"
     ]
    }
   ],
   "source": [
    "# ชนิดของข้อมูล Tuple\n",
    "\n",
    "#การดำเนินการต่างๆนั้นักจะเหมือน list \n",
    "# เช่น len  index  plus add\n",
    "\n",
    "\n",
    "shape_tuple1 = ('square','Circle','triangle','rectangel','star')\n",
    "shape_tuple2 = ('heart','oval')\n",
    "\n",
    "print('shape_tuple1',shape_tuple1)\n",
    "print('shape_tuple2',shape_tuple2)\n",
    "length =len(shape_tuple1)\n",
    "print('shape_tuple1 = ',length)\n",
    "print('shape_tuple1[0] =',shape_tuple1[0])\n",
    "print('shape_tuple1[4] =',shape_tuple1[4])\n",
    "print('shape_tuple1[-5] =',shape_tuple1[-5])\n",
    "print('shape_tuple1[-1] =',shape_tuple1[-1])\n",
    "print('shape_tuple1[0:5] =',shape_tuple1[0:5])\n",
    "print('shape_tuple1[:5] =',shape_tuple1[:5])\n",
    "print('shape_tuple1[-4:] =',shape_tuple1[-4:])\n",
    "\n",
    "\n",
    "shape_tuple = shape_tuple1+shape_tuple2\n",
    "print(shape_tuple)\n"
   ]
  },
  {
   "cell_type": "code",
   "execution_count": 40,
   "id": "9e49a11b",
   "metadata": {},
   "outputs": [
    {
     "name": "stdout",
     "output_type": "stream",
     "text": [
      "{'Friday', 'Sunday', 'Thursday', 'Tuseday', 'Wednesday', 'Monday', 'Saturday'}\n"
     ]
    }
   ],
   "source": [
    "# ชนิดของข้อมูล set \n",
    "#ไม่สามารถแก้ไขข้อมูลได้และผลลัพธ์ที่ได้ตอน run จะ สลับต่ำแหน่งตลอด\n",
    "\n",
    "day_set= {'Monday','Tuseday','Wednesday','Thursday','Friday',\n",
    "          'Saturday','Sunday'}\n",
    "print(day_set)\n"
   ]
  },
  {
   "cell_type": "code",
   "execution_count": 42,
   "id": "9b74cb8b",
   "metadata": {},
   "outputs": [
    {
     "name": "stdout",
     "output_type": "stream",
     "text": [
      "True\n",
      "False\n"
     ]
    }
   ],
   "source": [
    "#การดำเนินการต่างๆเหมือนเดิม len แต่เวลา in หาข้อมูลจะเป็น ฺBouleen\n",
    "day_set= {'Monday','Tuseday','Wednesday','Thursday','Friday',\n",
    "          'Saturday','Sunday'}\n",
    "print('Friday'in day_set)\n",
    "print('fireday'in day_set)"
   ]
  },
  {
   "cell_type": "code",
   "execution_count": 44,
   "id": "ad6d0e8c",
   "metadata": {},
   "outputs": [
    {
     "name": "stdout",
     "output_type": "stream",
     "text": [
      "{'Stawberry', 'Coffee', 'Chocolate', 'Vanila'}\n",
      "{'Coffee', 'Chocolate', 'Cookie and Cream', 'Chocolate chip', 'Vanila', 'Stawberry'}\n"
     ]
    }
   ],
   "source": [
    "# add and update\n",
    "flavor_set ={'Chocolate','Vanila','Stawberry'}\n",
    "flavor_set.add('Coffee')\n",
    "print(flavor_set)\n",
    "flavor_set.update(['Chocolate chip','Cookie and Cream'])\n",
    "print(flavor_set)"
   ]
  },
  {
   "cell_type": "code",
   "execution_count": 45,
   "id": "438485a5",
   "metadata": {},
   "outputs": [
    {
     "ename": "KeyError",
     "evalue": "'Coffee'",
     "output_type": "error",
     "traceback": [
      "\u001b[1;31m---------------------------------------------------------------------------\u001b[0m",
      "\u001b[1;31mKeyError\u001b[0m                                  Traceback (most recent call last)",
      "Input \u001b[1;32mIn [45]\u001b[0m, in \u001b[0;36m<cell line: 3>\u001b[1;34m()\u001b[0m\n\u001b[0;32m      1\u001b[0m \u001b[38;5;66;03m#Remove and Discard \u001b[39;00m\n\u001b[0;32m      2\u001b[0m flavor_set \u001b[38;5;241m=\u001b[39m{\u001b[38;5;124m'\u001b[39m\u001b[38;5;124mChocolate\u001b[39m\u001b[38;5;124m'\u001b[39m,\u001b[38;5;124m'\u001b[39m\u001b[38;5;124mVanila\u001b[39m\u001b[38;5;124m'\u001b[39m,\u001b[38;5;124m'\u001b[39m\u001b[38;5;124mStawberry\u001b[39m\u001b[38;5;124m'\u001b[39m}\n\u001b[1;32m----> 3\u001b[0m \u001b[43mflavor_set\u001b[49m\u001b[38;5;241;43m.\u001b[39;49m\u001b[43mremove\u001b[49m\u001b[43m(\u001b[49m\u001b[38;5;124;43m'\u001b[39;49m\u001b[38;5;124;43mCoffee\u001b[39;49m\u001b[38;5;124;43m'\u001b[39;49m\u001b[43m)\u001b[49m\n\u001b[0;32m      4\u001b[0m \u001b[38;5;28mprint\u001b[39m(flavor_set)\n",
      "\u001b[1;31mKeyError\u001b[0m: 'Coffee'"
     ]
    }
   ],
   "source": [
    "#Remove and Discard 1\n",
    "flavor_set ={'Chocolate','Vanila','Stawberry'}\n",
    "flavor_set.remove('Coffee')\n",
    "print(flavor_set)"
   ]
  },
  {
   "cell_type": "code",
   "execution_count": 46,
   "id": "36faee04",
   "metadata": {},
   "outputs": [
    {
     "name": "stdout",
     "output_type": "stream",
     "text": [
      "{'Stawberry', 'Chocolate'}\n"
     ]
    }
   ],
   "source": [
    "#Remove and Discard 2\n",
    "flavor_set ={'Chocolate','Vanila','Stawberry'}\n",
    "flavor_set.remove('Vanila')\n",
    "print(flavor_set)"
   ]
  },
  {
   "cell_type": "code",
   "execution_count": 47,
   "id": "44a39e9a",
   "metadata": {},
   "outputs": [
    {
     "name": "stdout",
     "output_type": "stream",
     "text": [
      "{'Stawberry', 'Chocolate'}\n",
      "{'Stawberry'}\n"
     ]
    }
   ],
   "source": [
    "flavor_set ={'Chocolate','Vanila','Stawberry'}\n",
    "flavor_set.remove('Vanila')\n",
    "print(flavor_set)\n",
    "flavor_set.discard('Chocolate')\n",
    "print(flavor_set)"
   ]
  },
  {
   "cell_type": "code",
   "execution_count": 48,
   "id": "aa8d0b3a",
   "metadata": {},
   "outputs": [
    {
     "name": "stdout",
     "output_type": "stream",
     "text": [
      "{'Chocolate  chip', 'Cookie cream', 'Vanila', 'Chocolate', 'Stawberry'}\n"
     ]
    }
   ],
   "source": [
    "#Union\n",
    "flavor_set1 ={'Chocolate','Vanila','Stawberry'}\n",
    "flavor_set2 ={'Chocolate  chip','Cookie cream'}\n",
    "flavor_set= flavor_set1.union(flavor_set2)\n",
    "print(flavor_set)"
   ]
  },
  {
   "cell_type": "code",
   "execution_count": 54,
   "id": "1273e461",
   "metadata": {},
   "outputs": [
    {
     "name": "stdout",
     "output_type": "stream",
     "text": [
      "{'A': 'Very Good', 'B': 'Good', 'C': 'Fair', 'D': 'Poor'}\n",
      "Very Good\n",
      "Fair\n",
      "three\n",
      "five\n"
     ]
    }
   ],
   "source": [
    "#ชนิดของข้อมูล Dictionaries\n",
    "rating_dict ={\n",
    "    \"A\":'Very Good',\n",
    "    'B':'Good',\n",
    "    'C':'Fair',\n",
    "    'D':'Poor'\n",
    "}\n",
    "\n",
    "\n",
    "number_dict ={\n",
    "    1:'one',\n",
    "    2:'two',\n",
    "    3:'three',\n",
    "    4:'four',\n",
    "    5:'five'\n",
    "}\n",
    "\n",
    "\n",
    "print(rating_dict)\n",
    "print(rating_dict[\"A\"])\n",
    "print(rating_dict[\"C\"])\n",
    "\n",
    "\n",
    "num1 = number_dict.get(3)\n",
    "print(num1)\n",
    "num2 = number_dict.get(5)\n",
    "print(num2)"
   ]
  },
  {
   "cell_type": "code",
   "execution_count": 55,
   "id": "d06906fb",
   "metadata": {},
   "outputs": [
    {
     "name": "stdout",
     "output_type": "stream",
     "text": [
      "{'A': 'Excellent', 'B': 'Good', 'C': 'Fair', 'D': 'Poor'}\n"
     ]
    }
   ],
   "source": [
    "#Update \n",
    "\n",
    "rating_dict['A'] = 'Excellent'\n",
    "print(rating_dict)"
   ]
  },
  {
   "cell_type": "code",
   "execution_count": 2,
   "id": "3f99ba30",
   "metadata": {},
   "outputs": [
    {
     "name": "stdout",
     "output_type": "stream",
     "text": [
      "{'A': 'Ant', 'B': 'Boy', 'C': 'Cat'}\n",
      "{'A': 1, 'B': 'Bird', 'C': 'Cat', 'D': 2}\n",
      "{'A': 1, 'B': 'Boy', 'C': 'Cat', 'D': 2}\n"
     ]
    }
   ],
   "source": [
    "#Merge ถ้าซ้ำเอาค่าตัวขวามาใช้เลย\n",
    "a = {'A':'Ant','B':'Bird','C':'Cat'}\n",
    "b= {'A':'Ant','B':'Boy'}\n",
    "c= {'A':1,'D':2 }\n",
    "\n",
    "X= a|b\n",
    "print(X)\n",
    "y=a|c\n",
    "print(y)\n",
    "z=a|b|c\n",
    "print(z)"
   ]
  },
  {
   "cell_type": "code",
   "execution_count": 3,
   "id": "d79017d0",
   "metadata": {},
   "outputs": [
    {
     "name": "stdout",
     "output_type": "stream",
     "text": [
      "{'A': 'Aunt', 'B': 'Boy', 'C': 'Cat'}\n",
      "{'A': 'Aunt', 'B': 'Boy'}\n",
      "{'A': 1, 'B': 'Boy', 'C': 'Cat', 'D': 4}\n",
      "{'A': 1, 'D': 4}\n"
     ]
    }
   ],
   "source": [
    "#Merge Update ถ้าซ้ำเอาค่าตัวขวามาใช้เลย\n",
    "a = {'A':'Ant','B':'Bird','C':'Cat'}\n",
    "b= {'A':'Aunt','B':'Boy'}\n",
    "c= {'A':1,'D':4 }\n",
    "\n",
    "a|=b\n",
    "print(a)\n",
    "print(b)\n",
    "a|=c\n",
    "print(a)\n",
    "print(c)"
   ]
  },
  {
   "cell_type": "code",
   "execution_count": 4,
   "id": "124008dc",
   "metadata": {},
   "outputs": [
    {
     "name": "stdout",
     "output_type": "stream",
     "text": [
      "{1: 'one', 2: 'two', 3: 'three', 4: 'four', 5: 'five', 6: 'six'}\n"
     ]
    }
   ],
   "source": [
    "number_dict ={\n",
    "    1:'one',\n",
    "    2:'two',\n",
    "    3:'three',\n",
    "    4:'four',\n",
    "    5:'five'\n",
    "}\n",
    "\n",
    "number_dict[6]='six'\n",
    "print(number_dict)"
   ]
  },
  {
   "cell_type": "code",
   "execution_count": 9,
   "id": "57677634",
   "metadata": {},
   "outputs": [
    {
     "name": "stdout",
     "output_type": "stream",
     "text": [
      "{1: 'one', 2: 'two', 4: 'four', 5: 'five'}\n",
      "{1: 'one', 2: 'two', 4: 'four'}\n"
     ]
    }
   ],
   "source": [
    "#Deleate information\n",
    "\n",
    "number_dict ={\n",
    "    1:'one',\n",
    "    2:'two',\n",
    "    3:'three',\n",
    "    4:'four',\n",
    "    5:'five'\n",
    "}\n",
    "number_dict.pop(3)\n",
    "print(number_dict)\n",
    "del number_dict[5]\n",
    "print(number_dict)\n"
   ]
  },
  {
   "cell_type": "code",
   "execution_count": 10,
   "id": "b8b638a8",
   "metadata": {},
   "outputs": [
    {
     "name": "stdout",
     "output_type": "stream",
     "text": [
      "<class 'int'> <class 'float'> <class 'complex'> <class 'str'> <class 'list'> <class 'tuple'> <class 'set'> <class 'dict'>\n"
     ]
    }
   ],
   "source": [
    "# How to chceck type of information\n",
    "a= 5\n",
    "b=20.5\n",
    "c=-4.5+2j\n",
    "d='Hello'\n",
    "e=['apple','banana','coconut']\n",
    "f= ('green','red','blue')\n",
    "g={'monday','tuseday','Wenday'}\n",
    "h={\n",
    "    1:'ONE',\n",
    "    2:'TWO',\n",
    "    3:'THREE'\n",
    "}\n",
    "print(type(a),type(b),type(c),type(d),type(e),type(f),type(g),type(h))"
   ]
  },
  {
   "cell_type": "code",
   "execution_count": null,
   "id": "af6250a6",
   "metadata": {},
   "outputs": [],
   "source": []
  }
 ],
 "metadata": {
  "kernelspec": {
   "display_name": "Python 3 (ipykernel)",
   "language": "python",
   "name": "python3"
  },
  "language_info": {
   "codemirror_mode": {
    "name": "ipython",
    "version": 3
   },
   "file_extension": ".py",
   "mimetype": "text/x-python",
   "name": "python",
   "nbconvert_exporter": "python",
   "pygments_lexer": "ipython3",
   "version": "3.9.12"
  }
 },
 "nbformat": 4,
 "nbformat_minor": 5
}
