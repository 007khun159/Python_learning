{
 "cells": [
  {
   "cell_type": "code",
   "execution_count": null,
   "id": "66e344af",
   "metadata": {},
   "outputs": [],
   "source": [
    "#if -else\n",
    "\n",
    "guess = input('กรุณาทายตัวเลข 1-10: ')\n",
    "\n",
    "if int(guess) == 3:\n",
    "    print('You win')\n",
    "else: \n",
    "    print('You lose')"
   ]
  },
  {
   "cell_type": "code",
   "execution_count": null,
   "id": "7886ae06",
   "metadata": {},
   "outputs": [],
   "source": [
    "#if -elif -else\n",
    "score = input('Enter the score you get: ')\n",
    "if int(score) >=80:\n",
    "    print('Grade A')\n",
    "elif int(score)>=70:\n",
    "    print('Grade B')\n",
    "elif int(score)>=60:\n",
    "    print('Grade C')\n",
    "elif int(score)>=50:\n",
    "    print('Grade D')\n",
    "else: \n",
    "    print('Grade F',\\\n",
    "         'try agiain')\n",
    "    "
   ]
  },
  {
   "cell_type": "code",
   "execution_count": 1,
   "id": "e88a2b5c",
   "metadata": {},
   "outputs": [
    {
     "name": "stdout",
     "output_type": "stream",
     "text": [
      "museum ticket Adult  100 bath and Child 50 bath \n",
      "How many ticket adult: 3\n",
      "Howmany ticket child:2\n",
      "Do you have member card Enter Y for yes Enter N for denyv\n",
      "We can not know are you member ship\n"
     ]
    }
   ],
   "source": [
    "#nested-if \n",
    "print('museum ticket Adult  100 bath and Child 50 bath ')\n",
    "\n",
    "ticket_adult =input('How many ticket adult: ')\n",
    "ticket_child = input('Howmany ticket child:')\n",
    "\n",
    "\n",
    "adult_price = int(ticket_adult)*100\n",
    "child_print= int(ticket_child)*50\n",
    "\n",
    "\n",
    "member = input('Do you have member card Enter Y for yes Enter N for deny')\n",
    "\n",
    "if member =='Y'and int(ticket_child)!=0:\n",
    "    if int(ticket_adult)+int(ticket_child)>10:\n",
    "        print('The member will get discount for about 50 percent')\n",
    "        total_price = (adult_price+child_print)*0.5\n",
    "        \n",
    "    elif int(ticket_adult)+int(ticket_child)>=5:\n",
    "        print('The member will get discount for about 30 percent')\n",
    "        total_price = (adult_price+child_print)*0.7\n",
    "        \n",
    "    else:\n",
    "        print('The member will get discount for about 20 percent')\n",
    "        total_price = (adult_price+child_print)*0.8\n",
    "    \n",
    "    print('The total price is %.2f bath'%(total_price))\n",
    "    \n",
    "elif member =='Y'and int(ticket_child)==0:\n",
    "    print('If the member ship did not buy child ticket,We will discount 10 percent all of place')\n",
    "    total_price =(adult_price+child_print)*0.9\n",
    "    print('The total price is %.2f bath'%(total_price))\n",
    "        \n",
    "\n",
    "elif member =='N':\n",
    "    print('The costumer are not member ,you will get discount 5 percent' )\n",
    "    total_price =(adult_price+child_print)*0.95\n",
    "    print('The total price is %.2f bath'%(total_price))\n",
    "    \n",
    "\n",
    "else: \n",
    "    print('We can not know are you member ship')\n",
    "        "
   ]
  },
  {
   "cell_type": "code",
   "execution_count": null,
   "id": "298dcf6a",
   "metadata": {},
   "outputs": [],
   "source": []
  }
 ],
 "metadata": {
  "kernelspec": {
   "display_name": "Python 3 (ipykernel)",
   "language": "python",
   "name": "python3"
  },
  "language_info": {
   "codemirror_mode": {
    "name": "ipython",
    "version": 3
   },
   "file_extension": ".py",
   "mimetype": "text/x-python",
   "name": "python",
   "nbconvert_exporter": "python",
   "pygments_lexer": "ipython3",
   "version": "3.9.12"
  }
 },
 "nbformat": 4,
 "nbformat_minor": 5
}
