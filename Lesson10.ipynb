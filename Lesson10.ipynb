{
 "cells": [
  {
   "cell_type": "code",
   "execution_count": 4,
   "id": "95592b4c",
   "metadata": {},
   "outputs": [
    {
     "name": "stdout",
     "output_type": "stream",
     "text": [
      "This is my first class\n"
     ]
    }
   ],
   "source": [
    "#การเขียนโปรแกรมเชิงวัตถุ\n",
    "\n",
    "class  MyClass:\n",
    "    msg = \"This is my first class\"\n",
    "    \n",
    "myobj =MyClass()\n",
    "print(myobj.msg)"
   ]
  },
  {
   "cell_type": "code",
   "execution_count": 5,
   "id": "29d41600",
   "metadata": {},
   "outputs": [
    {
     "name": "stdout",
     "output_type": "stream",
     "text": [
      "My Toyota car is  red color\n"
     ]
    }
   ],
   "source": [
    "class Car: \n",
    "    def __init__(self):\n",
    "        #กำหนดค่าเริ่มต้นให้ ตัวแปร และ color ซึ่งเป็น Properties ของobject\n",
    "        self.brand =\"Toyota\"\n",
    "        self.color = 'red'\n",
    "        \n",
    "obj= Car()\n",
    "print('My',obj.brand,'car is ',obj.color,'color')"
   ]
  },
  {
   "cell_type": "code",
   "execution_count": 7,
   "id": "8bd21403",
   "metadata": {},
   "outputs": [
    {
     "name": "stdout",
     "output_type": "stream",
     "text": [
      "ID: 001\n",
      "Name: สมศักดิ์\n",
      "Surename: ใจกล้า\n",
      "Dept: IT\n",
      "Salary: 36500\n"
     ]
    }
   ],
   "source": [
    "#How to use __init__()\n",
    "\n",
    "class Employee: \n",
    "    def __init__(self,emp_id,name,surename,dept,salary):\n",
    "        #กำหนดค่าพารามิเตอร์\n",
    "        \n",
    "        self.emp_id =  emp_id\n",
    "        self.name =  name\n",
    "        self.surename = surename\n",
    "        self.dept  = dept\n",
    "        self.salary = salary\n",
    "        \n",
    "# creat object class and sent agrument  to class \n",
    "# create argument \n",
    "myobj = Employee('001','สมศักดิ์','ใจกล้า','IT',36500 )\n",
    "\n",
    "\n",
    "print('ID:',myobj.emp_id)\n",
    "print('Name:',myobj.name)\n",
    "print('Surename:',myobj.surename)\n",
    "print('Dept:',myobj.dept)\n",
    "print('Salary:',myobj.salary)"
   ]
  },
  {
   "cell_type": "code",
   "execution_count": 13,
   "id": "db64d483",
   "metadata": {},
   "outputs": [
    {
     "name": "stdout",
     "output_type": "stream",
     "text": [
      "ชื่อนามสกุล :  สมศักดิ์ ใจกล้า\n",
      "แผนก : Information Technology\n",
      "\n",
      "\n",
      "ชื่อนามสกุล :  สมศักดิ์ ใจกล้า\n",
      "แผนก : Information Technology\n"
     ]
    }
   ],
   "source": [
    "#How to create Method object \n",
    "\n",
    "\n",
    "class Employee:\n",
    "    def __init__(self, emp_id, name, surname, dept, salary):\n",
    "        self.emp_id = emp_id\n",
    "        self.name = name\n",
    "        self.surname = surname\n",
    "        self.dept = dept\n",
    "        self.salary = salary\n",
    "    #create method \n",
    "    def mymethod(self):\n",
    "        if(self.dept == \"IT\"):\n",
    "            print(\"แผนก : Information Technology\")\n",
    "        else :\n",
    "            print(\"แผนก : \", self.dept)\n",
    "\n",
    "myobj = Employee(\"001\",\"สมศักดิ์\",\"ใจกล้า\",\"IT\",36500)\n",
    "print(\"ชื่อนามสกุล : \",myobj.name,myobj.surname)\n",
    "myobj.mymethod()\n",
    "print(\"\\n\")\n",
    "myobj2 = Employee(\"002\",\"สมศรี\",\"สวยไสว\",\"HR\",25000)\n",
    "print(\"ชื่อนามสกุล : \",myobj.name,myobj.surname)\n",
    "myobj2.mymethod()"
   ]
  },
  {
   "cell_type": "code",
   "execution_count": 18,
   "id": "ba4dfa62",
   "metadata": {},
   "outputs": [
    {
     "name": "stdout",
     "output_type": "stream",
     "text": [
      "Call __salary from inside class\n",
      "Officer Information\n",
      "John Medola 35000\n",
      "\n",
      "\n",
      "Call __salary from outside class\n",
      "John Medola : salary 35000 baht\n"
     ]
    }
   ],
   "source": [
    "\n",
    "#endcapsulation\n",
    "class Officer: \n",
    "    def __init__(self, name, surname, salary):\n",
    "        self.name = name\n",
    "        self.surname = surname\n",
    "        self.salary = salary\n",
    "    def display(self):\n",
    "        print(\"Call __salary from inside class\")\n",
    "        print(\"Officer Information\")\n",
    "        \n",
    "        \n",
    "        \n",
    "# เรียกใช้งานตัวแปรsalary จากภายในคลาส Officer\n",
    "ofc = Officer('John','Medola',30000)\n",
    "ofc.display()\n",
    "print('Salary',ofc.salary,'bath')"
   ]
  },
  {
   "cell_type": "code",
   "execution_count": 34,
   "id": "e61cf865",
   "metadata": {},
   "outputs": [
    {
     "name": "stdout",
     "output_type": "stream",
     "text": [
      "Call __salary from inside class\n",
      "Officer Information\n",
      "John Medola 35000\n",
      "\n",
      "\n",
      "Call __salary from outside class\n"
     ]
    },
    {
     "ename": "AttributeError",
     "evalue": "'Officer' object has no attribute '__salary'",
     "output_type": "error",
     "traceback": [
      "\u001b[1;31m---------------------------------------------------------------------------\u001b[0m",
      "\u001b[1;31mAttributeError\u001b[0m                            Traceback (most recent call last)",
      "Input \u001b[1;32mIn [34]\u001b[0m, in \u001b[0;36m<cell line: 19>\u001b[1;34m()\u001b[0m\n\u001b[0;32m     17\u001b[0m \u001b[38;5;28mprint\u001b[39m(\u001b[38;5;124m\"\u001b[39m\u001b[38;5;124mCall __salary from outside class\u001b[39m\u001b[38;5;124m\"\u001b[39m)\n\u001b[0;32m     18\u001b[0m \u001b[38;5;66;03m# เรียกใช้ตัวแปร __salary จากภายนอกคลาส Officer จะทำให้เกิดข้อผิดพลาดขึ้น\u001b[39;00m\n\u001b[1;32m---> 19\u001b[0m \u001b[38;5;28mprint\u001b[39m(ofc\u001b[38;5;241m.\u001b[39mname,ofc\u001b[38;5;241m.\u001b[39msurname,\u001b[38;5;124m\"\u001b[39m\u001b[38;5;124m: salary\u001b[39m\u001b[38;5;124m\"\u001b[39m,\u001b[43mofc\u001b[49m\u001b[38;5;241;43m.\u001b[39;49m\u001b[43m__salary\u001b[49m,\u001b[38;5;124m\"\u001b[39m\u001b[38;5;124mbaht\u001b[39m\u001b[38;5;124m\"\u001b[39m)\n",
      "\u001b[1;31mAttributeError\u001b[0m: 'Officer' object has no attribute '__salary'"
     ]
    }
   ],
   "source": [
    "#create encapsualte private\n",
    "\n",
    "class Officer:\n",
    "    def __init__(self, name, surname, salary):\n",
    "        self.name = name\n",
    "        self.surname = surname\n",
    "        self.__salary = salary\n",
    "    def display(self):\n",
    "        print(\"Call __salary from inside class\")\n",
    "        print(\"Officer Information\")\n",
    "        # เรียกใช้งานตัวแปร __salary จากภายในคลาส Officer\n",
    "        print(self.name,ofc.surname,ofc.__salary)\n",
    "        print(\"\\n\")\n",
    "\n",
    "ofc = Officer(\"John\", \"Medola\", 35000)\n",
    "ofc.display()\n",
    "print(\"Call __salary from outside class\")\n",
    "z\n",
    "\n",
    "\n",
    "# เรียกใช้ตัวแปร __salary จากภายนอกคลาส Officer จะทำให้เกิดข้อผิดพลาดขึ้น\n",
    "print(ofc.name,ofc.surname,\": salary\",ofc.__salary,\"baht\")"
   ]
  },
  {
   "cell_type": "code",
   "execution_count": 44,
   "id": "7500a1b2",
   "metadata": {},
   "outputs": [],
   "source": [
    "# another example\n",
    "class Promotion: \n",
    "    def __init__(self,pro_name,month):\n",
    "        self.pro_name = pro_name\n",
    "        self.month = month\n",
    "    def __display(self):\n",
    "        print('##################################')\n",
    "        print('Promotion of ',self.month,'is',self.pro_name)\n",
    "        print('##################################')\n",
    "        \n",
    "pro = Promotion('Stawberry Lover','December')\n",
    "#pro.__display()"
   ]
  },
  {
   "cell_type": "code",
   "execution_count": 48,
   "id": "d8974ca3",
   "metadata": {},
   "outputs": [
    {
     "name": "stdout",
     "output_type": "stream",
     "text": [
      "กรุณากรอกชื่อ : Mary\n",
      "กรุณากรอกนามสกุล : Golado\n",
      "กรุณากรอกแผนก : HR\n",
      "กรุณากรอกเงินเดือนเดิม : 40000\n",
      "กรุณากรอกเงินเดือนใหม่ : 51000\n",
      "\n",
      "Name :  Mary Golado\n",
      "เงินเดือนเดิม :  40000\n",
      "ไม่สามารถแก้ไขข้อมูลเงินเดือนใหม่ได้ ให้ใช้ข้อมูลเงินเดือนเดิม\n",
      "เงินเดือนล่าสุด :  40000\n"
     ]
    }
   ],
   "source": [
    "#Accessor Method and Mutator Method \n",
    "\n",
    "class Officer:\n",
    "    def __init__(self, name, surname, sal):\n",
    "        self.name = name\n",
    "        self.surname = surname\n",
    "        self.__salary = sal\n",
    "    def display(self):\n",
    "        print(\"\\nName : \",self.name,self.surname)\n",
    "        print(\"เงินเดือนเดิม : \",self.__salary)\n",
    "    # Accessor Method\n",
    "    def getSalary(self):\n",
    "        print(\"เงินเดือนล่าสุด : \",self.__salary)\n",
    "   # Mutator Method\n",
    "    def setSalary(self, dept, sal):\n",
    "        if dept!= \"IT\":\n",
    "            if int(sal) > 50000:\n",
    "                print(\"ไม่สามารถแก้ไขข้อมูลเงินเดือนใหม่ได้ ให้ใช้ข้อมูลเงินเดือนเดิม\")\n",
    "            else:\n",
    "                self.__salary = sal\n",
    "        else:\n",
    "            self.__salary = sal\n",
    "\n",
    "myname = input(\"กรุณากรอกชื่อ : \")\n",
    "mysurname = input(\"กรุณากรอกนามสกุล : \")\n",
    "mydept = input(\"กรุณากรอกแผนก : \")\n",
    "oldsal = input(\"กรุณากรอกเงินเดือนเดิม : \")\n",
    "newsal = input(\"กรุณากรอกเงินเดือนใหม่ : \")\n",
    "ofc = Officer(myname,mysurname,oldsal)\n",
    "ofc.display()\n",
    "ofc.setSalary(mydept,newsal)\n",
    "ofc.getSalary()"
   ]
  },
  {
   "cell_type": "code",
   "execution_count": 52,
   "id": "5e7c54a6",
   "metadata": {},
   "outputs": [
    {
     "name": "stdout",
     "output_type": "stream",
     "text": [
      "This is parent class\n",
      "This is child class\n"
     ]
    }
   ],
   "source": [
    "#Inheritance ถ่ายทอดคุณลักษณะ\n",
    "\n",
    "class ParentClass: \n",
    "    parent_msg = 'This is parent class'\n",
    "\n",
    "class ChildClass(ParentClass): \n",
    "    child_msg = 'This is child class'\n",
    "\n",
    "\n",
    "child = ChildClass()\n",
    "print(child.parent_msg)\n",
    "\n",
    "print(child.child_msg)\n"
   ]
  },
  {
   "cell_type": "code",
   "execution_count": 57,
   "id": "800c5b10",
   "metadata": {},
   "outputs": [
    {
     "name": "stdout",
     "output_type": "stream",
     "text": [
      "สมศักดิ์ ใจกล้า อายุ 15 ปี\n",
      "สมศรี สดใส อายุ 16 ปี\n"
     ]
    }
   ],
   "source": [
    "class Person:\n",
    "    def __init__(self, name, surname, age):\n",
    "        self.name = name\n",
    "        self.surname = surname\n",
    "        self.age = age\n",
    "\n",
    "    def display(self):\n",
    "        print(self.name, self.surname, \"อายุ\", self.age, \"ปี\")\n",
    "        \n",
    "class Student(Person):\n",
    "  pass \n",
    "\n",
    "p = Person('สมศักดิ์','ใจกล้า','15')\n",
    "p.display()\n",
    "\n",
    "s = Student('สมศรี','สดใส','16')\n",
    "s.display()\n",
    "    "
   ]
  },
  {
   "cell_type": "code",
   "execution_count": 62,
   "id": "abdba9d4",
   "metadata": {},
   "outputs": [
    {
     "name": "stdout",
     "output_type": "stream",
     "text": [
      "สมศรี สดใส อายุ 16 ปี เกรด 3.58\n"
     ]
    }
   ],
   "source": [
    "#การสร้าง class __inint__ ใน class ลุก\n",
    "\n",
    "class Person: \n",
    "    def __init__(self,name,surname,age):\n",
    "        self.name= name\n",
    "        self.surname = surname\n",
    "        self.age = age\n",
    "\n",
    "        \n",
    "class Student (Person):\n",
    "    def __init__(self,name,surname,age,grade):\n",
    "        super().__init__(name,surname,age)\n",
    "        self.grade = grade\n",
    "    \n",
    "\n",
    "s = Student('สมศรี','สดใส','16','3.58')\n",
    "print(s.name, s.surname, \"อายุ\", s.age, \"ปี เกรด\", s.grade)\n",
    "    "
   ]
  },
  {
   "cell_type": "code",
   "execution_count": 67,
   "id": "f41c272e",
   "metadata": {},
   "outputs": [
    {
     "name": "stdout",
     "output_type": "stream",
     "text": [
      "Call __init__ from GrandParentClass\n",
      "a = 1\n",
      "Call __init__ from ParentClass\n",
      "b =  2\n",
      "Call __init__ from ChildClass\n",
      "c =  3\n",
      "a b c =  1 2 3\n"
     ]
    }
   ],
   "source": [
    "# การสืบถอดคุณสมบัติ Multilevel \n",
    "\n",
    "class GrandParentClass: \n",
    "    def __init__(self,a):\n",
    "        print('Call __init__ from GrandParentClass')\n",
    "        self.a  =a \n",
    "        print('a =',self.a)\n",
    "        \n",
    "class ParentClass(GrandParentClass): \n",
    "    def __init__(self, a, b):\n",
    "        super().__init__(a)\n",
    "        print(\"Call __init__ from ParentClass\")\n",
    "        self.b = b\n",
    "        print(\"b = \",self.b)\n",
    "\n",
    "class ChildClass(ParentClass):\n",
    "    def __init__(self, a, b, c):\n",
    "        super().__init__(a, b)\n",
    "        print(\"Call __init__ from ChildClass\")\n",
    "        self.c = c\n",
    "        print(\"c = \",self.c)\n",
    "\n",
    "child = ChildClass(1, 2, 3)\n",
    "print(\"a b c = \",child.a,child.b,child.c)"
   ]
  },
  {
   "cell_type": "code",
   "execution_count": 72,
   "id": "bca8000c",
   "metadata": {},
   "outputs": [
    {
     "name": "stdout",
     "output_type": "stream",
     "text": [
      "ฉันเป็น หนู สี เทา\n",
      "ฉันสามารถส่งเสียงร้องได้\n",
      "\n",
      "ฉันเป็น หมา สี ขาว\n",
      "ฉันร้องโฮ่ง\n",
      "\n",
      "ฉันเป็น แมว สี ดำ\n",
      "ฉันร้องเหมียว\n",
      "\n"
     ]
    }
   ],
   "source": [
    "#Polymorphism การพ้องรูป\n",
    "\n",
    "\n",
    "class Animal:\n",
    "    def __init__(self,type,color):\n",
    "        self.type = type\n",
    "        self.color = color \n",
    "        print('ฉันเป็น',self.type,'สี',self.color)\n",
    "        \n",
    "    def yell(Animal):\n",
    "        print('ฉันสามารถส่งเสียงร้องได้\\n')\n",
    "class Rat(Animal):\n",
    "    pass\n",
    "\n",
    "\n",
    "class Dog(Animal):\n",
    "    def yell(self):\n",
    "        print('ฉันร้องโฮ่ง\\n')\n",
    "        \n",
    "class Cat(Animal):\n",
    "    def yell(self):\n",
    "        print('ฉันร้องเหมียว\\n')\n",
    "        \n",
    "r =Rat('หนู','เทา')\n",
    "r.yell()\n",
    "\n",
    "d=Dog('หมา','ขาว')\n",
    "d.yell()\n",
    "\n",
    "c = Cat('แมว','ดำ')\n",
    "c.yell()"
   ]
  },
  {
   "cell_type": "code",
   "execution_count": 73,
   "id": "c98dbf57",
   "metadata": {},
   "outputs": [
    {
     "name": "stdout",
     "output_type": "stream",
     "text": [
      "25+35 = 60\n",
      "Less than\n"
     ]
    }
   ],
   "source": [
    "# Operator Overloading \n",
    "\n",
    "class OperatorOverloading:\n",
    "    def __init__(self, a):\n",
    "        self.a = a\n",
    "  \n",
    "    def __add__(self, other):\n",
    "        return self.a + other.a\n",
    "    \n",
    "    def __gt__(self, other):\n",
    "        if(self.a>other.a):\n",
    "            return True\n",
    "        else:\n",
    "            return False\n",
    "  \n",
    "oo1 = OperatorOverloading(25)\n",
    "oo2 = OperatorOverloading(35)\n",
    "oo3 = oo1 + oo2\n",
    "print(\"25+35 =\",oo3)\n",
    "if(oo1>oo2):\n",
    "    print(\"Greater than\")\n",
    "else:\n",
    "    print(\"Less than\")"
   ]
  },
  {
   "cell_type": "code",
   "execution_count": null,
   "id": "e2a56c28",
   "metadata": {},
   "outputs": [],
   "source": []
  }
 ],
 "metadata": {
  "kernelspec": {
   "display_name": "Python 3 (ipykernel)",
   "language": "python",
   "name": "python3"
  },
  "language_info": {
   "codemirror_mode": {
    "name": "ipython",
    "version": 3
   },
   "file_extension": ".py",
   "mimetype": "text/x-python",
   "name": "python",
   "nbconvert_exporter": "python",
   "pygments_lexer": "ipython3",
   "version": "3.9.12"
  }
 },
 "nbformat": 4,
 "nbformat_minor": 5
}
